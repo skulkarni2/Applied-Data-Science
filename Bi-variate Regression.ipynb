{
 "cells": [
  {
   "cell_type": "code",
   "execution_count": 1,
   "metadata": {
    "collapsed": true
   },
   "outputs": [],
   "source": [
    "import pandas as pd\n",
    "import numpy as np\n",
    "import statsmodels.formula.api as smf\n",
    "import matplotlib.pylab as plt\n",
    "%matplotlib inline"
   ]
  },
  {
   "cell_type": "markdown",
   "metadata": {},
   "source": [
    "# Bi-variate linear regression\n",
    "\n",
    "# 1.1. Basic approach - least square estimate\n",
    "One of the basic models to try, while learning dependence between two real-valued variables $X$ and $Y$ is linear:\n",
    "$$\n",
    "y=w_1 x + w_0.\n",
    "$$\n",
    "Admitting that the model's accuracy is not be absolute: \n",
    "$$\n",
    "y=w_1 x + w_0 +\\varepsilon,\\hspace{5ex} (1)\n",
    "$$\n",
    "where $\\varepsilon$ is the model's error (often called noise or residual).\n",
    "\n",
    "The objective is to learn $b$ given a training set of $\\{(x_i, y_i), i=1..N\\}$. Usually the objetive is to find $w=(w_1,w_0)$ providing the best possible fit of the model, i.e. minimizing absolute values of the errors\n",
    "$\\varepsilon_i=x_i-w_1 y_i-w_0$.\n",
    "\n",
    "Most common quality function for the given model is the residual sum of squares:\n",
    "$$\n",
    "RSS(w)=\\sum\\limits_i \\varepsilon_i^2=\\sum\\limits_i (y_i-w_1 x_i-w_0)^2. \\hspace{5ex} (2)\n",
    "$$\n",
    "Minimizing $RSS(w)\\to min$ is called a least square approach. With respect to this criteria, regression becomes an optimization problem\n",
    "$$\n",
    "\\hat{w}=argmin_w RSS(w). \\hspace{5ex} (3)\n",
    "$$\n",
    "Luckily this problem has a precise analytic solution following from function's shape and local extremum criteria:\n",
    "$$\n",
    "\\left\\{\\begin{array}{c}\\frac{\\partial RSS(\\hat{w})}{\\partial w_1}=0,\\\\ \\frac{\\partial RSS(\\hat{w})}{\\partial w_0}=0.\\end{array}\\right.\n",
    "$$\n",
    "i.e.\n",
    "$$\n",
    "\\left\\{\\begin{array}{c}\\sum\\limits_i 2x_i(y_i-\\hat{w}_1 x_i-\\hat{w}_0)=0,\\\\ \\sum\\limits_i 2(y_i-\\hat{w}_1 x_i-\\hat{w}_0)=0,\\end{array}\\right.\n",
    "$$\n",
    "$$\n",
    "\\left\\{\\begin{array}{c}\\hat{w}_1\\left(\\sum\\limits_i (x_i)^2\\right)+\\hat{w}_0\\left(\\sum\\limits_i x_i\\right)=\\sum\\limits_i x_i y_i,\\\\ \\hat{w}_1\\left(\\sum\\limits_i x_i\\right)+N \\hat{w}_0=\\sum\\limits_i y_i,\\end{array}\\right.\n",
    "$$\n",
    "$$\n",
    "\\left\\{\\begin{array}{c}\\hat{w}_1=\\frac{\\sum\\limits_i x_i y_i-\\left(\\sum\\limits_i y_i\\right)\\left(\\sum\\limits_i x_i\\right)/N}{\\sum\\limits_i (x_i)^2-\\left(\\sum\\limits_i x_i\\right)^2/N}=\\frac{E[XY]-E[X]E[Y]}{E[X^2]-E[X]^2}=\\frac{E[X-E[X]][Y-E[X]]}{var[X]}=\\frac{cov(X,Y)}{var[X]}=corr[X,Y]\\frac{std[Y]}{std[X]},\\\\\n",
    "\\hat{w}_0=\\frac{\\sum\\limits_i y_i-\\hat{w}_1\\left(\\sum\\limits_i x_i\\right)}{N}=E[Y]-E[X]\\hat{w}_1\\end{array}\\right.\n",
    "$$"
   ]
  },
  {
   "cell_type": "markdown",
   "metadata": {},
   "source": [
    "# 1.2. Probabilistic approach\n",
    "\n",
    "Uncertainty of the model (1) prediction can be expressed by considering $\\varepsilon$ as a random variable representing deviations of the actual values of $y$ from the estimates provided by the precise linear model. A basic assumption is to have $\\varepsilon\\sim{\\cal N}(0,\\sigma^2)$ (mean is zero as otherwise the intercept term $w_0$ could be corrected accordingly). \n",
    "\n",
    "Often observations $y_i,x_i$ are spread in time ($i$ - could be time of the observation). \n",
    "Classical regression assumptions (Gauss-Markov): $\\sigma$ is the same for all observations (does not depend on time) and errors $\\varepsilon_i$ following ${\\cal N}(0,\\sigma^2)$ are mutually uncorrelated, i.e. $cov(\\epsilon_i,\\epsilon_j)=0$ for $i\\neq j$. \n",
    "\n",
    "An alternative way of representing this linear model is by considering $y$ a random variable and expressing it's conditional probability density function with respect to given $x$ and $w$ as\n",
    "$$\n",
    "p(y|x,w)={\\cal N}(y|w_1 x+w_0,\\sigma^2).\\hspace{5ex} (4)\n",
    "$$\n",
    "\n",
    "This way it is actually the mean of the distribution (4) which is predicted by a linear model/\n",
    "Now the problem is to fit unknown parameters of the model $w_1,w_0,\\sigma$ (the last one $\\sigma$ represents how usually close are the values of $y$ to the linear prediction), so that the model is the most consistent with the training data $\\{(x_j,y_j), j=1..N\\}$.\n",
    "\n",
    "Fitting could be done through through maximizing the likelihood that the observed data $y_j$ actually follows the suggested distribution (4). Likelihood is defined as a product of probability density values $\\prod\\limits_j p(y_j|x_j)$. But it's actually more practical to maximize the log-likelihood (which is equivalent):\n",
    "$$\n",
    "\\log\\left(\\prod\\limits_j p(y_j|x_j)\\right)=\\sum\\limits_j \\log\\left({\\cal N}(y|w_1 x+w_0,\\sigma^2)\\right)=\n",
    "$$$$\n",
    "=-\\sum\\limits_j \\frac{(y_j-w_1 x_j+w_0)^2}{2\\sigma^2}- N \\log(\\sigma)-N \\log(\\sqrt{2\\pi})\\to\\max\n",
    "$$\n",
    "Optimization with respect to $w$ turns out to be equivalent to the above least-square minimization (3). Then for minimal $RSS(\\hat{w})$ acheived, $\\sigma$ could be found from\n",
    "$$\n",
    "\\frac{RSS(\\hat{w})}{2\\sigma^2}+N\\log(\\sigma)\\to\\min\n",
    "$$$$\n",
    "\\frac{\\partial\\frac{RSS(\\hat{w})}{2\\sigma^2}+N\\log(\\sigma)}{\\partial \\sigma}=0,\n",
    "$$$$\n",
    "-\\frac{RSS(\\hat{w})}{\\sigma^3}+\\frac{N}{\\sigma}=0,\n",
    "$$$$\n",
    "\\sigma^2=\\frac{RSS(\\hat{w})}{N}.\n",
    "$$"
   ]
  },
  {
   "cell_type": "code",
   "execution_count": null,
   "metadata": {
    "collapsed": true
   },
   "outputs": [],
   "source": []
  },
  {
   "cell_type": "code",
   "execution_count": null,
   "metadata": {
    "collapsed": true
   },
   "outputs": [],
   "source": []
  },
  {
   "cell_type": "markdown",
   "metadata": {},
   "source": [
    "### Example One: Toy example.\n",
    "$y=5x+10+\\varepsilon$\n",
    "\n",
    "$\\varepsilon\\sim{\\cal N}(0,\\sigma^2)$ and $\\sigma=10$"
   ]
  },
  {
   "cell_type": "code",
   "execution_count": 3,
   "metadata": {
    "collapsed": false
   },
   "outputs": [],
   "source": [
    "#Generate data:\n",
    "np.random.seed(100)\n",
    "error=np.random.normal(0,10,10)\n",
    "X=range(10)"
   ]
  },
  {
   "cell_type": "code",
   "execution_count": 8,
   "metadata": {
    "collapsed": false
   },
   "outputs": [
    {
     "data": {
      "text/plain": [
       "array([-17.49765473,   3.42680403,  11.53035803,  -2.52436037,\n",
       "         9.81320787,   5.14218841,   2.21179669, -10.70043331,\n",
       "        -1.89495831,   2.55001444])"
      ]
     },
     "execution_count": 8,
     "metadata": {},
     "output_type": "execute_result"
    }
   ],
   "source": [
    "error"
   ]
  },
  {
   "cell_type": "code",
   "execution_count": 9,
   "metadata": {
    "collapsed": false
   },
   "outputs": [
    {
     "data": {
      "text/plain": [
       "array([-34.99530946,   6.85360807,  23.06071605,  -5.04872073,\n",
       "        19.62641574,  10.28437683,   4.42359338, -21.40086661,\n",
       "        -3.78991662,   5.10002889])"
      ]
     },
     "execution_count": 9,
     "metadata": {},
     "output_type": "execute_result"
    }
   ],
   "source": [
    "error+error"
   ]
  },
  {
   "cell_type": "code",
   "execution_count": 62,
   "metadata": {
    "collapsed": false
   },
   "outputs": [
    {
     "data": {
      "text/plain": [
       "array([-1749.76547305,   342.68040333,  1153.03580256,  -252.43603652,\n",
       "         981.32078695,   514.21884139,   221.17966922, -1070.04333057,\n",
       "        -189.49583082,   255.00144427])"
      ]
     },
     "execution_count": 62,
     "metadata": {},
     "output_type": "execute_result"
    }
   ],
   "source": [
    "error*100"
   ]
  },
  {
   "cell_type": "code",
   "execution_count": 6,
   "metadata": {
    "collapsed": false
   },
   "outputs": [
    {
     "data": {
      "text/plain": [
       "[0, 1, 2, 3, 4, 5, 6, 7, 8, 9]"
      ]
     },
     "execution_count": 6,
     "metadata": {},
     "output_type": "execute_result"
    }
   ],
   "source": [
    "X"
   ]
  },
  {
   "cell_type": "code",
   "execution_count": 7,
   "metadata": {
    "collapsed": false
   },
   "outputs": [
    {
     "data": {
      "text/plain": [
       "[0, 1, 2, 3, 4, 5, 6, 7, 8, 9, 0, 1, 2, 3, 4, 5, 6, 7, 8, 9]"
      ]
     },
     "execution_count": 7,
     "metadata": {},
     "output_type": "execute_result"
    }
   ],
   "source": [
    "X+X"
   ]
  },
  {
   "cell_type": "code",
   "execution_count": null,
   "metadata": {
    "collapsed": false
   },
   "outputs": [],
   "source": []
  },
  {
   "cell_type": "markdown",
   "metadata": {},
   "source": [
    "#### (1) Let's generate y and prepare the data for using"
   ]
  },
  {
   "cell_type": "code",
   "execution_count": 10,
   "metadata": {
    "collapsed": false
   },
   "outputs": [
    {
     "name": "stdout",
     "output_type": "stream",
     "text": [
      "<type 'list'>\n",
      "<type 'numpy.ndarray'>\n"
     ]
    }
   ],
   "source": [
    "#1. What is the type of X,error?\n",
    "print type(X)\n",
    "print type(error)"
   ]
  },
  {
   "cell_type": "code",
   "execution_count": 11,
   "metadata": {
    "collapsed": true
   },
   "outputs": [],
   "source": [
    "#2. Change the type of X, to np array\n",
    "X=np.asarray(X)"
   ]
  },
  {
   "cell_type": "code",
   "execution_count": 12,
   "metadata": {
    "collapsed": false
   },
   "outputs": [
    {
     "name": "stdout",
     "output_type": "stream",
     "text": [
      "<type 'numpy.ndarray'>\n",
      "<type 'numpy.ndarray'>\n"
     ]
    }
   ],
   "source": [
    "print type(X)\n",
    "print type(error)"
   ]
  },
  {
   "cell_type": "code",
   "execution_count": 13,
   "metadata": {
    "collapsed": false
   },
   "outputs": [
    {
     "data": {
      "text/plain": [
       "array([ -7.49765473,  18.42680403,  31.53035803,  22.47563963,\n",
       "        39.81320787,  40.14218841,  42.21179669,  34.29956669,\n",
       "        48.10504169,  57.55001444])"
      ]
     },
     "execution_count": 13,
     "metadata": {},
     "output_type": "execute_result"
    }
   ],
   "source": [
    "#3.Generate y\n",
    "y=5*X+10+error\n",
    "y"
   ]
  },
  {
   "cell_type": "code",
   "execution_count": 14,
   "metadata": {
    "collapsed": false
   },
   "outputs": [
    {
     "data": {
      "text/html": [
       "<div>\n",
       "<table border=\"1\" class=\"dataframe\">\n",
       "  <thead>\n",
       "    <tr style=\"text-align: right;\">\n",
       "      <th></th>\n",
       "      <th>0</th>\n",
       "      <th>1</th>\n",
       "    </tr>\n",
       "  </thead>\n",
       "  <tbody>\n",
       "    <tr>\n",
       "      <th>0</th>\n",
       "      <td>0.0</td>\n",
       "      <td>-7.497655</td>\n",
       "    </tr>\n",
       "    <tr>\n",
       "      <th>1</th>\n",
       "      <td>1.0</td>\n",
       "      <td>18.426804</td>\n",
       "    </tr>\n",
       "    <tr>\n",
       "      <th>2</th>\n",
       "      <td>2.0</td>\n",
       "      <td>31.530358</td>\n",
       "    </tr>\n",
       "  </tbody>\n",
       "</table>\n",
       "</div>"
      ],
      "text/plain": [
       "     0          1\n",
       "0  0.0  -7.497655\n",
       "1  1.0  18.426804\n",
       "2  2.0  31.530358"
      ]
     },
     "execution_count": 14,
     "metadata": {},
     "output_type": "execute_result"
    }
   ],
   "source": [
    "# Pandas Data frame\n",
    "#1.Make the pandas dataframe.\n",
    "data=pd.DataFrame([list(X),list(y)]).T\n",
    "data.head(3)"
   ]
  },
  {
   "cell_type": "code",
   "execution_count": 16,
   "metadata": {
    "collapsed": false
   },
   "outputs": [
    {
     "data": {
      "text/html": [
       "<div>\n",
       "<table border=\"1\" class=\"dataframe\">\n",
       "  <thead>\n",
       "    <tr style=\"text-align: right;\">\n",
       "      <th></th>\n",
       "      <th>x</th>\n",
       "      <th>y</th>\n",
       "    </tr>\n",
       "  </thead>\n",
       "  <tbody>\n",
       "    <tr>\n",
       "      <th>0</th>\n",
       "      <td>0.0</td>\n",
       "      <td>-7.497655</td>\n",
       "    </tr>\n",
       "    <tr>\n",
       "      <th>1</th>\n",
       "      <td>1.0</td>\n",
       "      <td>18.426804</td>\n",
       "    </tr>\n",
       "    <tr>\n",
       "      <th>2</th>\n",
       "      <td>2.0</td>\n",
       "      <td>31.530358</td>\n",
       "    </tr>\n",
       "    <tr>\n",
       "      <th>3</th>\n",
       "      <td>3.0</td>\n",
       "      <td>22.475640</td>\n",
       "    </tr>\n",
       "    <tr>\n",
       "      <th>4</th>\n",
       "      <td>4.0</td>\n",
       "      <td>39.813208</td>\n",
       "    </tr>\n",
       "    <tr>\n",
       "      <th>5</th>\n",
       "      <td>5.0</td>\n",
       "      <td>40.142188</td>\n",
       "    </tr>\n",
       "    <tr>\n",
       "      <th>6</th>\n",
       "      <td>6.0</td>\n",
       "      <td>42.211797</td>\n",
       "    </tr>\n",
       "    <tr>\n",
       "      <th>7</th>\n",
       "      <td>7.0</td>\n",
       "      <td>34.299567</td>\n",
       "    </tr>\n",
       "    <tr>\n",
       "      <th>8</th>\n",
       "      <td>8.0</td>\n",
       "      <td>48.105042</td>\n",
       "    </tr>\n",
       "    <tr>\n",
       "      <th>9</th>\n",
       "      <td>9.0</td>\n",
       "      <td>57.550014</td>\n",
       "    </tr>\n",
       "  </tbody>\n",
       "</table>\n",
       "</div>"
      ],
      "text/plain": [
       "     x          y\n",
       "0  0.0  -7.497655\n",
       "1  1.0  18.426804\n",
       "2  2.0  31.530358\n",
       "3  3.0  22.475640\n",
       "4  4.0  39.813208\n",
       "5  5.0  40.142188\n",
       "6  6.0  42.211797\n",
       "7  7.0  34.299567\n",
       "8  8.0  48.105042\n",
       "9  9.0  57.550014"
      ]
     },
     "execution_count": 16,
     "metadata": {},
     "output_type": "execute_result"
    }
   ],
   "source": [
    "#2. Change the name for column 0 and 1\n",
    "data.columns=[\"x\",\"y\"]\n",
    "data"
   ]
  },
  {
   "cell_type": "code",
   "execution_count": 17,
   "metadata": {
    "collapsed": false
   },
   "outputs": [
    {
     "data": {
      "image/png": "[encoded data removed]",
      "text/plain": [
       "<matplotlib.figure.Figure at 0x7f63bc494290>"
      ]
     },
     "metadata": {},
     "output_type": "display_data"
    }
   ],
   "source": [
    "#visulize the data.\n",
    "import matplotlib.pylab as plt\n",
    "%matplotlib inline\n",
    "plt.scatter(data.x,data.y)\n",
    "plt.show()"
   ]
  },
  {
   "cell_type": "markdown",
   "metadata": {},
   "source": [
    "#### (2) Use OLS to estimate the coefficients by hands"
   ]
  },
  {
   "cell_type": "code",
   "execution_count": 18,
   "metadata": {
    "collapsed": false
   },
   "outputs": [
    {
     "data": {
      "text/html": [
       "<div>\n",
       "<table border=\"1\" class=\"dataframe\">\n",
       "  <thead>\n",
       "    <tr style=\"text-align: right;\">\n",
       "      <th></th>\n",
       "      <th>x</th>\n",
       "      <th>y</th>\n",
       "    </tr>\n",
       "  </thead>\n",
       "  <tbody>\n",
       "    <tr>\n",
       "      <th>count</th>\n",
       "      <td>10.00000</td>\n",
       "      <td>10.000000</td>\n",
       "    </tr>\n",
       "    <tr>\n",
       "      <th>mean</th>\n",
       "      <td>4.50000</td>\n",
       "      <td>32.705696</td>\n",
       "    </tr>\n",
       "    <tr>\n",
       "      <th>std</th>\n",
       "      <td>3.02765</td>\n",
       "      <td>18.194432</td>\n",
       "    </tr>\n",
       "    <tr>\n",
       "      <th>min</th>\n",
       "      <td>0.00000</td>\n",
       "      <td>-7.497655</td>\n",
       "    </tr>\n",
       "    <tr>\n",
       "      <th>25%</th>\n",
       "      <td>2.25000</td>\n",
       "      <td>24.739319</td>\n",
       "    </tr>\n",
       "    <tr>\n",
       "      <th>50%</th>\n",
       "      <td>4.50000</td>\n",
       "      <td>37.056387</td>\n",
       "    </tr>\n",
       "    <tr>\n",
       "      <th>75%</th>\n",
       "      <td>6.75000</td>\n",
       "      <td>41.694395</td>\n",
       "    </tr>\n",
       "    <tr>\n",
       "      <th>max</th>\n",
       "      <td>9.00000</td>\n",
       "      <td>57.550014</td>\n",
       "    </tr>\n",
       "  </tbody>\n",
       "</table>\n",
       "</div>"
      ],
      "text/plain": [
       "              x          y\n",
       "count  10.00000  10.000000\n",
       "mean    4.50000  32.705696\n",
       "std     3.02765  18.194432\n",
       "min     0.00000  -7.497655\n",
       "25%     2.25000  24.739319\n",
       "50%     4.50000  37.056387\n",
       "75%     6.75000  41.694395\n",
       "max     9.00000  57.550014"
      ]
     },
     "execution_count": 18,
     "metadata": {},
     "output_type": "execute_result"
    }
   ],
   "source": [
    "#Take a quick look at the data\n",
    "data.describe()"
   ]
  },
  {
   "cell_type": "markdown",
   "metadata": {},
   "source": [
    "#### Correlation. Very important for linear model. If you don't know what is it, check:https://en.wikipedia.org/wiki/Correlation_and_dependence "
   ]
  },
  {
   "cell_type": "code",
   "execution_count": 19,
   "metadata": {
    "collapsed": false
   },
   "outputs": [
    {
     "data": {
      "text/html": [
       "<div>\n",
       "<table border=\"1\" class=\"dataframe\">\n",
       "  <thead>\n",
       "    <tr style=\"text-align: right;\">\n",
       "      <th></th>\n",
       "      <th>x</th>\n",
       "      <th>y</th>\n",
       "    </tr>\n",
       "  </thead>\n",
       "  <tbody>\n",
       "    <tr>\n",
       "      <th>x</th>\n",
       "      <td>1.000000</td>\n",
       "      <td>0.873941</td>\n",
       "    </tr>\n",
       "    <tr>\n",
       "      <th>y</th>\n",
       "      <td>0.873941</td>\n",
       "      <td>1.000000</td>\n",
       "    </tr>\n",
       "  </tbody>\n",
       "</table>\n",
       "</div>"
      ],
      "text/plain": [
       "          x         y\n",
       "x  1.000000  0.873941\n",
       "y  0.873941  1.000000"
      ]
     },
     "execution_count": 19,
     "metadata": {},
     "output_type": "execute_result"
    }
   ],
   "source": [
    "#Take a look the correlation of X and y\n",
    "data.corr()"
   ]
  },
  {
   "cell_type": "code",
   "execution_count": 14,
   "metadata": {
    "collapsed": true
   },
   "outputs": [],
   "source": [
    "#Calculate the coefficient. We have closed form for it by OLS."
   ]
  },
  {
   "cell_type": "markdown",
   "metadata": {},
   "source": [
    "$$\n",
    "\\left\\{\\begin{array}{c}\\hat{w}_1=\\frac{\\sum\\limits_i x_i y_i-\\left(\\sum\\limits_i y_i\\right)\\left(\\sum\\limits_i x_i\\right)/N}{\\sum\\limits_i (x_i)^2-\\left(\\sum\\limits_i x_i\\right)^2/N}\\\\\n",
    "\\hat{w}_0=\\frac{\\sum\\limits_i y_i-\\hat{w}_1\\left(\\sum\\limits_i x_i\\right)}{N}\\end{array}\\right.\n",
    "$$"
   ]
  },
  {
   "cell_type": "code",
   "execution_count": 20,
   "metadata": {
    "collapsed": false
   },
   "outputs": [
    {
     "data": {
      "text/html": [
       "<div>\n",
       "<table border=\"1\" class=\"dataframe\">\n",
       "  <thead>\n",
       "    <tr style=\"text-align: right;\">\n",
       "      <th></th>\n",
       "      <th>x</th>\n",
       "      <th>y</th>\n",
       "      <th>x_sqr</th>\n",
       "      <th>xy</th>\n",
       "    </tr>\n",
       "  </thead>\n",
       "  <tbody>\n",
       "    <tr>\n",
       "      <th>0</th>\n",
       "      <td>0.0</td>\n",
       "      <td>-7.497655</td>\n",
       "      <td>0.0</td>\n",
       "      <td>-0.000000</td>\n",
       "    </tr>\n",
       "    <tr>\n",
       "      <th>1</th>\n",
       "      <td>1.0</td>\n",
       "      <td>18.426804</td>\n",
       "      <td>1.0</td>\n",
       "      <td>18.426804</td>\n",
       "    </tr>\n",
       "    <tr>\n",
       "      <th>2</th>\n",
       "      <td>2.0</td>\n",
       "      <td>31.530358</td>\n",
       "      <td>4.0</td>\n",
       "      <td>63.060716</td>\n",
       "    </tr>\n",
       "  </tbody>\n",
       "</table>\n",
       "</div>"
      ],
      "text/plain": [
       "     x          y  x_sqr         xy\n",
       "0  0.0  -7.497655    0.0  -0.000000\n",
       "1  1.0  18.426804    1.0  18.426804\n",
       "2  2.0  31.530358    4.0  63.060716"
      ]
     },
     "execution_count": 20,
     "metadata": {},
     "output_type": "execute_result"
    }
   ],
   "source": [
    "#2.1 get xy and x-squred term \n",
    "data.loc[:,\"x_sqr\"]=data.x*data.x\n",
    "data.loc[:,\"xy\"]=data.x*data.y\n",
    "data.head(3)"
   ]
  },
  {
   "cell_type": "code",
   "execution_count": 21,
   "metadata": {
    "collapsed": false
   },
   "outputs": [
    {
     "name": "stdout",
     "output_type": "stream",
     "text": [
      "w1 is : 5.25187988624\n"
     ]
    }
   ],
   "source": [
    "#2.2 Let's calculate w1. \n",
    "w1=(data.xy.sum()-data.y.sum()*data.x.sum()/len(data))/(data.x_sqr.sum()-data.x.sum()*data.x.sum()/len(data))\n",
    "print(\"w1 is : {}\".format(w1))"
   ]
  },
  {
   "cell_type": "code",
   "execution_count": 23,
   "metadata": {
    "collapsed": false
   },
   "outputs": [
    {
     "name": "stdout",
     "output_type": "stream",
     "text": [
      "w0 is : 9.0722367887\n"
     ]
    }
   ],
   "source": [
    "#2.3 let's calculate w0.\n",
    "w0=(data.y-data.x*w1).mean()\n",
    "print(\"w0 is : {}\".format(w0))"
   ]
  },
  {
   "cell_type": "code",
   "execution_count": 24,
   "metadata": {
    "collapsed": false
   },
   "outputs": [
    {
     "data": {
      "text/html": [
       "<div>\n",
       "<table border=\"1\" class=\"dataframe\">\n",
       "  <thead>\n",
       "    <tr style=\"text-align: right;\">\n",
       "      <th></th>\n",
       "      <th>x</th>\n",
       "      <th>y</th>\n",
       "      <th>x_sqr</th>\n",
       "      <th>xy</th>\n",
       "      <th>pred</th>\n",
       "      <th>err</th>\n",
       "    </tr>\n",
       "  </thead>\n",
       "  <tbody>\n",
       "    <tr>\n",
       "      <th>0</th>\n",
       "      <td>0.0</td>\n",
       "      <td>-7.497655</td>\n",
       "      <td>0.0</td>\n",
       "      <td>-0.000000</td>\n",
       "      <td>9.072237</td>\n",
       "      <td>-16.569892</td>\n",
       "    </tr>\n",
       "    <tr>\n",
       "      <th>1</th>\n",
       "      <td>1.0</td>\n",
       "      <td>18.426804</td>\n",
       "      <td>1.0</td>\n",
       "      <td>18.426804</td>\n",
       "      <td>14.324117</td>\n",
       "      <td>4.102687</td>\n",
       "    </tr>\n",
       "    <tr>\n",
       "      <th>2</th>\n",
       "      <td>2.0</td>\n",
       "      <td>31.530358</td>\n",
       "      <td>4.0</td>\n",
       "      <td>63.060716</td>\n",
       "      <td>19.575997</td>\n",
       "      <td>11.954361</td>\n",
       "    </tr>\n",
       "  </tbody>\n",
       "</table>\n",
       "</div>"
      ],
      "text/plain": [
       "     x          y  x_sqr         xy       pred        err\n",
       "0  0.0  -7.497655    0.0  -0.000000   9.072237 -16.569892\n",
       "1  1.0  18.426804    1.0  18.426804  14.324117   4.102687\n",
       "2  2.0  31.530358    4.0  63.060716  19.575997  11.954361"
      ]
     },
     "execution_count": 24,
     "metadata": {},
     "output_type": "execute_result"
    }
   ],
   "source": [
    "#2.4. Let's get predicted values and errors\n",
    "data.loc[:,\"pred\"]=w1*data.x+w0\n",
    "data.loc[:,\"err\"]=data.y-data.pred\n",
    "data.head(3)"
   ]
  },
  {
   "cell_type": "code",
   "execution_count": 25,
   "metadata": {
    "collapsed": false
   },
   "outputs": [
    {
     "data": {
      "text/plain": [
       "0.7637724875971592"
      ]
     },
     "execution_count": 25,
     "metadata": {},
     "output_type": "execute_result"
    }
   ],
   "source": [
    "#2.5. Calculate R-squared.\n",
    "R_2=1-(data.err**2).sum()/((data.y-data.y.mean())**2).sum()\n",
    "R_2"
   ]
  },
  {
   "cell_type": "markdown",
   "metadata": {
    "collapsed": true
   },
   "source": [
    "#### (3)Let's try package from statsmodels to double check our answer"
   ]
  },
  {
   "cell_type": "code",
   "execution_count": 26,
   "metadata": {
    "collapsed": true
   },
   "outputs": [],
   "source": [
    "lm = smf.ols(formula='y ~ x', data = data).fit()"
   ]
  },
  {
   "cell_type": "code",
   "execution_count": 27,
   "metadata": {
    "collapsed": false
   },
   "outputs": [
    {
     "name": "stdout",
     "output_type": "stream",
     "text": [
      "Intercept    9.072237\n",
      "x            5.251880\n",
      "dtype: float64\n",
      "0.763772487597\n"
     ]
    }
   ],
   "source": [
    "print lm.params\n",
    "print lm.rsquared"
   ]
  },
  {
   "cell_type": "code",
   "execution_count": 28,
   "metadata": {
    "collapsed": false
   },
   "outputs": [
    {
     "name": "stdout",
     "output_type": "stream",
     "text": [
      "                            OLS Regression Results                            \n",
      "==============================================================================\n",
      "Dep. Variable:                      y   R-squared:                       0.764\n",
      "Model:                            OLS   Adj. R-squared:                  0.734\n",
      "Method:                 Least Squares   F-statistic:                     25.87\n",
      "Date:                Wed, 14 Sep 2016   Prob (F-statistic):           0.000946\n",
      "Time:                        23:52:04   Log-Likelihood:                -35.459\n",
      "No. Observations:                  10   AIC:                             74.92\n",
      "Df Residuals:                       8   BIC:                             75.52\n",
      "Df Model:                           1                                         \n",
      "Covariance Type:            nonrobust                                         \n",
      "==============================================================================\n",
      "                 coef    std err          t      P>|t|      [95.0% Conf. Int.]\n",
      "------------------------------------------------------------------------------\n",
      "Intercept      9.0722      5.513      1.646      0.138        -3.640    21.785\n",
      "x              5.2519      1.033      5.086      0.001         2.871     7.633\n",
      "==============================================================================\n",
      "Omnibus:                        1.045   Durbin-Watson:                   1.617\n",
      "Prob(Omnibus):                  0.593   Jarque-Bera (JB):                0.630\n",
      "Skew:                          -0.560   Prob(JB):                        0.730\n",
      "Kurtosis:                       2.492   Cond. No.                         10.2\n",
      "==============================================================================\n",
      "\n",
      "Warnings:\n",
      "[1] Standard Errors assume that the covariance matrix of the errors is correctly specified.\n"
     ]
    },
    {
     "name": "stderr",
     "output_type": "stream",
     "text": [
      "/home/lingjing/anaconda2/lib/python2.7/site-packages/scipy/stats/stats.py:1557: UserWarning: kurtosistest only valid for n>=20 ... continuing anyway, n=10\n",
      "  \"anyway, n=%i\" % int(n))\n"
     ]
    }
   ],
   "source": [
    "print lm.summary()"
   ]
  },
  {
   "cell_type": "code",
   "execution_count": null,
   "metadata": {
    "collapsed": true
   },
   "outputs": [],
   "source": []
  },
  {
   "cell_type": "code",
   "execution_count": 29,
   "metadata": {
    "collapsed": false
   },
   "outputs": [
    {
     "data": {
      "image/png": "[encoded data removed]",
      "text/plain": [
       "<matplotlib.figure.Figure at 0x7f63bc494750>"
      ]
     },
     "metadata": {},
     "output_type": "display_data"
    }
   ],
   "source": [
    "#7. Visulize the model\n",
    "import matplotlib.pylab as plt\n",
    "%matplotlib inline\n",
    "plt.figure(figsize=(8,8))\n",
    "plt.scatter(X,y)\n",
    "plt.plot(data.pred,c=\"r\")\n",
    "plt.show()\n",
    "## SS - should we put axe labels on the plot?"
   ]
  },
  {
   "cell_type": "code",
   "execution_count": null,
   "metadata": {
    "collapsed": true
   },
   "outputs": [],
   "source": []
  },
  {
   "cell_type": "code",
   "execution_count": null,
   "metadata": {
    "collapsed": true
   },
   "outputs": [],
   "source": []
  },
  {
   "cell_type": "markdown",
   "metadata": {},
   "source": [
    "### Excerise. Real-world example "
   ]
  },
  {
   "cell_type": "markdown",
   "metadata": {},
   "source": [
    "#### q1. Real Estate Prices in NYC"
   ]
  },
  {
   "cell_type": "markdown",
   "metadata": {},
   "source": [
    "This is the data on multi-apartment house sale prices in the zip code 10466 (Bronx). Let's see how sale price depends on the house size (besides other relevant parameters)"
   ]
  },
  {
   "cell_type": "code",
   "execution_count": 30,
   "metadata": {
    "collapsed": false
   },
   "outputs": [],
   "source": [
    "data_3=pd.read_csv(\"https://serv.cusp.nyu.edu/~lw1474/ADS_Data/data/NYC_RE_10466__multi.csv\",index_col=0)\n",
    "data_3.index=range(len(data_3))"
   ]
  },
  {
   "cell_type": "code",
   "execution_count": 31,
   "metadata": {
    "collapsed": false
   },
   "outputs": [
    {
     "data": {
      "text/html": [
       "<div>\n",
       "<table border=\"1\" class=\"dataframe\">\n",
       "  <thead>\n",
       "    <tr style=\"text-align: right;\">\n",
       "      <th></th>\n",
       "      <th>gross_sq_feet</th>\n",
       "      <th>sale_price</th>\n",
       "    </tr>\n",
       "  </thead>\n",
       "  <tbody>\n",
       "    <tr>\n",
       "      <th>count</th>\n",
       "      <td>136.000000</td>\n",
       "      <td>1.360000e+02</td>\n",
       "    </tr>\n",
       "    <tr>\n",
       "      <th>mean</th>\n",
       "      <td>19734.764706</td>\n",
       "      <td>1.889870e+06</td>\n",
       "    </tr>\n",
       "    <tr>\n",
       "      <th>std</th>\n",
       "      <td>22391.028099</td>\n",
       "      <td>2.081844e+06</td>\n",
       "    </tr>\n",
       "    <tr>\n",
       "      <th>min</th>\n",
       "      <td>1620.000000</td>\n",
       "      <td>1.325000e+05</td>\n",
       "    </tr>\n",
       "    <tr>\n",
       "      <th>25%</th>\n",
       "      <td>4080.250000</td>\n",
       "      <td>4.800000e+05</td>\n",
       "    </tr>\n",
       "    <tr>\n",
       "      <th>50%</th>\n",
       "      <td>6577.500000</td>\n",
       "      <td>6.612500e+05</td>\n",
       "    </tr>\n",
       "    <tr>\n",
       "      <th>75%</th>\n",
       "      <td>37027.500000</td>\n",
       "      <td>3.328860e+06</td>\n",
       "    </tr>\n",
       "    <tr>\n",
       "      <th>max</th>\n",
       "      <td>84340.000000</td>\n",
       "      <td>8.865379e+06</td>\n",
       "    </tr>\n",
       "  </tbody>\n",
       "</table>\n",
       "</div>"
      ],
      "text/plain": [
       "       gross_sq_feet    sale_price\n",
       "count     136.000000  1.360000e+02\n",
       "mean    19734.764706  1.889870e+06\n",
       "std     22391.028099  2.081844e+06\n",
       "min      1620.000000  1.325000e+05\n",
       "25%      4080.250000  4.800000e+05\n",
       "50%      6577.500000  6.612500e+05\n",
       "75%     37027.500000  3.328860e+06\n",
       "max     84340.000000  8.865379e+06"
      ]
     },
     "execution_count": 31,
     "metadata": {},
     "output_type": "execute_result"
    }
   ],
   "source": [
    "#What is the min/max of gross_sq_feet and sale_price?\n",
    "data_3.describe()"
   ]
  },
  {
   "cell_type": "code",
   "execution_count": 32,
   "metadata": {
    "collapsed": false
   },
   "outputs": [
    {
     "data": {
      "text/html": [
       "<div>\n",
       "<table border=\"1\" class=\"dataframe\">\n",
       "  <thead>\n",
       "    <tr style=\"text-align: right;\">\n",
       "      <th></th>\n",
       "      <th>gross_sq_feet</th>\n",
       "      <th>sale_price</th>\n",
       "    </tr>\n",
       "  </thead>\n",
       "  <tbody>\n",
       "    <tr>\n",
       "      <th>gross_sq_feet</th>\n",
       "      <td>1.000000</td>\n",
       "      <td>0.926478</td>\n",
       "    </tr>\n",
       "    <tr>\n",
       "      <th>sale_price</th>\n",
       "      <td>0.926478</td>\n",
       "      <td>1.000000</td>\n",
       "    </tr>\n",
       "  </tbody>\n",
       "</table>\n",
       "</div>"
      ],
      "text/plain": [
       "               gross_sq_feet  sale_price\n",
       "gross_sq_feet       1.000000    0.926478\n",
       "sale_price          0.926478    1.000000"
      ]
     },
     "execution_count": 32,
     "metadata": {},
     "output_type": "execute_result"
    }
   ],
   "source": [
    "#Q1. What is the correlation of gross_sq_feet and sale_price?\n",
    "data_3.corr()"
   ]
  },
  {
   "cell_type": "code",
   "execution_count": 33,
   "metadata": {
    "collapsed": false
   },
   "outputs": [
    {
     "data": {
      "image/png": "[encoded data removed]",
      "text/plain": [
       "<matplotlib.figure.Figure at 0x7f63b9d59410>"
      ]
     },
     "metadata": {},
     "output_type": "display_data"
    }
   ],
   "source": [
    "#Q2. Visulize the data set as points.\n",
    "plt.scatter(data_3.gross_sq_feet,data_3.sale_price)\n",
    "plt.show()"
   ]
  },
  {
   "cell_type": "code",
   "execution_count": 34,
   "metadata": {
    "collapsed": false
   },
   "outputs": [
    {
     "name": "stdout",
     "output_type": "stream",
     "text": [
      "                            OLS Regression Results                            \n",
      "==============================================================================\n",
      "Dep. Variable:             sale_price   R-squared:                       0.858\n",
      "Model:                            OLS   Adj. R-squared:                  0.857\n",
      "Method:                 Least Squares   F-statistic:                     812.1\n",
      "Date:                Wed, 14 Sep 2016   Prob (F-statistic):           9.99e-59\n",
      "Time:                        23:52:15   Log-Likelihood:                -2038.2\n",
      "No. Observations:                 136   AIC:                             4080.\n",
      "Df Residuals:                     134   BIC:                             4086.\n",
      "Df Model:                           1                                         \n",
      "Covariance Type:            nonrobust                                         \n",
      "=================================================================================\n",
      "                    coef    std err          t      P>|t|      [95.0% Conf. Int.]\n",
      "---------------------------------------------------------------------------------\n",
      "Intercept      1.899e+05      9e+04      2.109      0.037      1.18e+04  3.68e+05\n",
      "gross_sq_feet    86.1409      3.023     28.497      0.000        80.162    92.119\n",
      "==============================================================================\n",
      "Omnibus:                       32.516   Durbin-Watson:                   2.109\n",
      "Prob(Omnibus):                  0.000   Jarque-Bera (JB):              392.320\n",
      "Skew:                          -0.039   Prob(JB):                     6.44e-86\n",
      "Kurtosis:                      11.320   Cond. No.                     3.98e+04\n",
      "==============================================================================\n",
      "\n",
      "Warnings:\n",
      "[1] Standard Errors assume that the covariance matrix of the errors is correctly specified.\n",
      "[2] The condition number is large, 3.98e+04. This might indicate that there are\n",
      "strong multicollinearity or other numerical problems.\n"
     ]
    }
   ],
   "source": [
    "#Q3. Get w1,w2 and R-squared.(Feel free to calculate by hand or use the package/any packages.)\n",
    "lm = smf.ols(formula='sale_price ~ gross_sq_feet', data = data_3).fit()\n",
    "print(lm.summary())"
   ]
  },
  {
   "cell_type": "code",
   "execution_count": null,
   "metadata": {
    "collapsed": true
   },
   "outputs": [],
   "source": []
  },
  {
   "cell_type": "code",
   "execution_count": 35,
   "metadata": {
    "collapsed": false
   },
   "outputs": [
    {
     "data": {
      "text/html": [
       "<div>\n",
       "<table border=\"1\" class=\"dataframe\">\n",
       "  <thead>\n",
       "    <tr style=\"text-align: right;\">\n",
       "      <th></th>\n",
       "      <th>gross_sq_feet</th>\n",
       "      <th>sale_price</th>\n",
       "      <th>error</th>\n",
       "      <th>pred</th>\n",
       "    </tr>\n",
       "  </thead>\n",
       "  <tbody>\n",
       "    <tr>\n",
       "      <th>0</th>\n",
       "      <td>7745</td>\n",
       "      <td>700000.0</td>\n",
       "      <td>-157061.296216</td>\n",
       "      <td>857061.296216</td>\n",
       "    </tr>\n",
       "    <tr>\n",
       "      <th>1</th>\n",
       "      <td>3700</td>\n",
       "      <td>335000.0</td>\n",
       "      <td>-173621.477152</td>\n",
       "      <td>508621.477152</td>\n",
       "    </tr>\n",
       "    <tr>\n",
       "      <th>2</th>\n",
       "      <td>5250</td>\n",
       "      <td>510000.0</td>\n",
       "      <td>-132139.825619</td>\n",
       "      <td>642139.825619</td>\n",
       "    </tr>\n",
       "  </tbody>\n",
       "</table>\n",
       "</div>"
      ],
      "text/plain": [
       "   gross_sq_feet  sale_price          error           pred\n",
       "0           7745    700000.0 -157061.296216  857061.296216\n",
       "1           3700    335000.0 -173621.477152  508621.477152\n",
       "2           5250    510000.0 -132139.825619  642139.825619"
      ]
     },
     "execution_count": 35,
     "metadata": {},
     "output_type": "execute_result"
    }
   ],
   "source": [
    "#Q4. write \"error\" and \"pred\" term into the datafram, and what is the correlation between error and gross_sq_feet\n",
    "data_3.loc[:,\"error\"]=lm.resid\n",
    "data_3.loc[:,\"pred\"]=lm.predict()\n",
    "data_3.head(3)"
   ]
  },
  {
   "cell_type": "code",
   "execution_count": 36,
   "metadata": {
    "collapsed": false
   },
   "outputs": [
    {
     "data": {
      "text/html": [
       "<div>\n",
       "<table border=\"1\" class=\"dataframe\">\n",
       "  <thead>\n",
       "    <tr style=\"text-align: right;\">\n",
       "      <th></th>\n",
       "      <th>gross_sq_feet</th>\n",
       "      <th>error</th>\n",
       "    </tr>\n",
       "  </thead>\n",
       "  <tbody>\n",
       "    <tr>\n",
       "      <th>gross_sq_feet</th>\n",
       "      <td>1.000000e+00</td>\n",
       "      <td>9.124588e-16</td>\n",
       "    </tr>\n",
       "    <tr>\n",
       "      <th>error</th>\n",
       "      <td>9.124588e-16</td>\n",
       "      <td>1.000000e+00</td>\n",
       "    </tr>\n",
       "  </tbody>\n",
       "</table>\n",
       "</div>"
      ],
      "text/plain": [
       "               gross_sq_feet         error\n",
       "gross_sq_feet   1.000000e+00  9.124588e-16\n",
       "error           9.124588e-16  1.000000e+00"
      ]
     },
     "execution_count": 36,
     "metadata": {},
     "output_type": "execute_result"
    }
   ],
   "source": [
    "data_3.loc[:,[\"gross_sq_feet\",\"error\"]].corr()"
   ]
  },
  {
   "cell_type": "code",
   "execution_count": 38,
   "metadata": {
    "collapsed": false
   },
   "outputs": [
    {
     "data": {
      "image/png": "[encoded data removed]",
      "text/plain": [
       "<matplotlib.figure.Figure at 0x7f63b9ccf3d0>"
      ]
     },
     "metadata": {},
     "output_type": "display_data"
    }
   ],
   "source": [
    "#Q5. Plot the predicted values and observations.\n",
    "data_3.plot(kind='scatter',x='gross_sq_feet',y='sale_price')\n",
    "plt.plot(data_3.gross_sq_feet,lm.predict(),'r-')\n",
    "plt.show()"
   ]
  },
  {
   "cell_type": "code",
   "execution_count": null,
   "metadata": {
    "collapsed": true
   },
   "outputs": [],
   "source": []
  },
  {
   "cell_type": "code",
   "execution_count": null,
   "metadata": {
    "collapsed": true
   },
   "outputs": [],
   "source": []
  },
  {
   "cell_type": "markdown",
   "metadata": {},
   "source": [
    "#### q2. Example 2.  (The data set includes total population, and earning per capita for most cities in US.  We want to explore \"Total earning ~ Population\")"
   ]
  },
  {
   "cell_type": "code",
   "execution_count": 39,
   "metadata": {
    "collapsed": false
   },
   "outputs": [],
   "source": [
    "data_4=pd.read_csv(\"https://serv.cusp.nyu.edu/~lw1474/ADS_Data/Session02/population_earning.csv\")"
   ]
  },
  {
   "cell_type": "code",
   "execution_count": 40,
   "metadata": {
    "collapsed": false
   },
   "outputs": [
    {
     "data": {
      "text/html": [
       "<div>\n",
       "<table border=\"1\" class=\"dataframe\">\n",
       "  <thead>\n",
       "    <tr style=\"text-align: right;\">\n",
       "      <th></th>\n",
       "      <th>city</th>\n",
       "      <th>Population</th>\n",
       "      <th>Earning_per_capita</th>\n",
       "    </tr>\n",
       "  </thead>\n",
       "  <tbody>\n",
       "    <tr>\n",
       "      <th>0</th>\n",
       "      <td>Aaronsburg</td>\n",
       "      <td>1267.0</td>\n",
       "      <td>19563.0</td>\n",
       "    </tr>\n",
       "    <tr>\n",
       "      <th>1</th>\n",
       "      <td>Abbeville</td>\n",
       "      <td>53422.0</td>\n",
       "      <td>18485.6</td>\n",
       "    </tr>\n",
       "    <tr>\n",
       "      <th>2</th>\n",
       "      <td>Abbot</td>\n",
       "      <td>717.0</td>\n",
       "      <td>23897.0</td>\n",
       "    </tr>\n",
       "    <tr>\n",
       "      <th>3</th>\n",
       "      <td>Abbotsford</td>\n",
       "      <td>2884.0</td>\n",
       "      <td>23461.0</td>\n",
       "    </tr>\n",
       "    <tr>\n",
       "      <th>4</th>\n",
       "      <td>Abbott</td>\n",
       "      <td>1145.0</td>\n",
       "      <td>26713.0</td>\n",
       "    </tr>\n",
       "  </tbody>\n",
       "</table>\n",
       "</div>"
      ],
      "text/plain": [
       "         city  Population  Earning_per_capita\n",
       "0  Aaronsburg      1267.0             19563.0\n",
       "1   Abbeville     53422.0             18485.6\n",
       "2       Abbot       717.0             23897.0\n",
       "3  Abbotsford      2884.0             23461.0\n",
       "4      Abbott      1145.0             26713.0"
      ]
     },
     "execution_count": 40,
     "metadata": {},
     "output_type": "execute_result"
    }
   ],
   "source": [
    "data_4.head()"
   ]
  },
  {
   "cell_type": "code",
   "execution_count": 41,
   "metadata": {
    "collapsed": false
   },
   "outputs": [
    {
     "data": {
      "text/html": [
       "<div>\n",
       "<table border=\"1\" class=\"dataframe\">\n",
       "  <thead>\n",
       "    <tr style=\"text-align: right;\">\n",
       "      <th></th>\n",
       "      <th>Population</th>\n",
       "      <th>Earning_per_capita</th>\n",
       "    </tr>\n",
       "  </thead>\n",
       "  <tbody>\n",
       "    <tr>\n",
       "      <th>count</th>\n",
       "      <td>1.722500e+04</td>\n",
       "      <td>17225.000000</td>\n",
       "    </tr>\n",
       "    <tr>\n",
       "      <th>mean</th>\n",
       "      <td>1.844530e+04</td>\n",
       "      <td>26075.115473</td>\n",
       "    </tr>\n",
       "    <tr>\n",
       "      <th>std</th>\n",
       "      <td>7.837758e+04</td>\n",
       "      <td>11044.535384</td>\n",
       "    </tr>\n",
       "    <tr>\n",
       "      <th>min</th>\n",
       "      <td>7.000000e+00</td>\n",
       "      <td>409.000000</td>\n",
       "    </tr>\n",
       "    <tr>\n",
       "      <th>25%</th>\n",
       "      <td>7.520000e+02</td>\n",
       "      <td>20168.000000</td>\n",
       "    </tr>\n",
       "    <tr>\n",
       "      <th>50%</th>\n",
       "      <td>2.699000e+03</td>\n",
       "      <td>24152.000000</td>\n",
       "    </tr>\n",
       "    <tr>\n",
       "      <th>75%</th>\n",
       "      <td>1.111400e+04</td>\n",
       "      <td>29375.000000</td>\n",
       "    </tr>\n",
       "    <tr>\n",
       "      <th>max</th>\n",
       "      <td>3.042954e+06</td>\n",
       "      <td>392835.000000</td>\n",
       "    </tr>\n",
       "  </tbody>\n",
       "</table>\n",
       "</div>"
      ],
      "text/plain": [
       "         Population  Earning_per_capita\n",
       "count  1.722500e+04        17225.000000\n",
       "mean   1.844530e+04        26075.115473\n",
       "std    7.837758e+04        11044.535384\n",
       "min    7.000000e+00          409.000000\n",
       "25%    7.520000e+02        20168.000000\n",
       "50%    2.699000e+03        24152.000000\n",
       "75%    1.111400e+04        29375.000000\n",
       "max    3.042954e+06       392835.000000"
      ]
     },
     "execution_count": 41,
     "metadata": {},
     "output_type": "execute_result"
    }
   ],
   "source": [
    "data_4.loc[:,[\"Population\",\"Earning_per_capita\"]].describe()"
   ]
  },
  {
   "cell_type": "code",
   "execution_count": 42,
   "metadata": {
    "collapsed": false
   },
   "outputs": [
    {
     "data": {
      "text/plain": [
       "(17225, 3)"
      ]
     },
     "execution_count": 42,
     "metadata": {},
     "output_type": "execute_result"
    }
   ],
   "source": [
    "#q1.How many observations do we have? (shape)\n",
    "data_4.shape"
   ]
  },
  {
   "cell_type": "code",
   "execution_count": 43,
   "metadata": {
    "collapsed": false
   },
   "outputs": [
    {
     "data": {
      "text/html": [
       "<div>\n",
       "<table border=\"1\" class=\"dataframe\">\n",
       "  <thead>\n",
       "    <tr style=\"text-align: right;\">\n",
       "      <th></th>\n",
       "      <th>city</th>\n",
       "      <th>Population</th>\n",
       "      <th>Earning_per_capita</th>\n",
       "    </tr>\n",
       "  </thead>\n",
       "  <tbody>\n",
       "    <tr>\n",
       "      <th>7087</th>\n",
       "      <td>Houston</td>\n",
       "      <td>3042954.0</td>\n",
       "      <td>30849.704762</td>\n",
       "    </tr>\n",
       "    <tr>\n",
       "      <th>2714</th>\n",
       "      <td>Chicago</td>\n",
       "      <td>2696882.0</td>\n",
       "      <td>37407.285714</td>\n",
       "    </tr>\n",
       "    <tr>\n",
       "      <th>1812</th>\n",
       "      <td>Brooklyn</td>\n",
       "      <td>2630446.0</td>\n",
       "      <td>27090.227273</td>\n",
       "    </tr>\n",
       "    <tr>\n",
       "      <th>8835</th>\n",
       "      <td>Los Angeles</td>\n",
       "      <td>2404492.0</td>\n",
       "      <td>29586.258064</td>\n",
       "    </tr>\n",
       "    <tr>\n",
       "      <th>9768</th>\n",
       "      <td>Miami</td>\n",
       "      <td>1819194.0</td>\n",
       "      <td>24864.081967</td>\n",
       "    </tr>\n",
       "    <tr>\n",
       "      <th>13599</th>\n",
       "      <td>San Antonio</td>\n",
       "      <td>1665478.0</td>\n",
       "      <td>25250.000000</td>\n",
       "    </tr>\n",
       "    <tr>\n",
       "      <th>10767</th>\n",
       "      <td>New York</td>\n",
       "      <td>1608966.0</td>\n",
       "      <td>75086.044444</td>\n",
       "    </tr>\n",
       "    <tr>\n",
       "      <th>12000</th>\n",
       "      <td>Philadelphia</td>\n",
       "      <td>1581957.0</td>\n",
       "      <td>26438.666667</td>\n",
       "    </tr>\n",
       "    <tr>\n",
       "      <th>8338</th>\n",
       "      <td>Las Vegas</td>\n",
       "      <td>1471662.0</td>\n",
       "      <td>27822.000000</td>\n",
       "    </tr>\n",
       "    <tr>\n",
       "      <th>3644</th>\n",
       "      <td>Dallas</td>\n",
       "      <td>1451105.0</td>\n",
       "      <td>31640.946429</td>\n",
       "    </tr>\n",
       "  </tbody>\n",
       "</table>\n",
       "</div>"
      ],
      "text/plain": [
       "               city  Population  Earning_per_capita\n",
       "7087        Houston   3042954.0        30849.704762\n",
       "2714        Chicago   2696882.0        37407.285714\n",
       "1812       Brooklyn   2630446.0        27090.227273\n",
       "8835    Los Angeles   2404492.0        29586.258064\n",
       "9768          Miami   1819194.0        24864.081967\n",
       "13599   San Antonio   1665478.0        25250.000000\n",
       "10767      New York   1608966.0        75086.044444\n",
       "12000  Philadelphia   1581957.0        26438.666667\n",
       "8338      Las Vegas   1471662.0        27822.000000\n",
       "3644         Dallas   1451105.0        31640.946429"
      ]
     },
     "execution_count": 43,
     "metadata": {},
     "output_type": "execute_result"
    }
   ],
   "source": [
    "#q2. What are the top 10 biggest cities by population?\n",
    "data_4.sort_values(by=\"Population\",ascending=False)[0:10]"
   ]
  },
  {
   "cell_type": "code",
   "execution_count": null,
   "metadata": {
    "collapsed": false
   },
   "outputs": [],
   "source": []
  },
  {
   "cell_type": "markdown",
   "metadata": {
    "collapsed": false
   },
   "source": [
    "#### Prepare data for regression."
   ]
  },
  {
   "cell_type": "code",
   "execution_count": 44,
   "metadata": {
    "collapsed": true
   },
   "outputs": [],
   "source": [
    "#q3. Generate a new column \"Total_earning\"=\"Population\"*\"Earning_per_capita\" in the data frame.\n",
    "data_4.loc[:,\"Total_earning\"]=data_4.Population*data_4.Earning_per_capita"
   ]
  },
  {
   "cell_type": "code",
   "execution_count": 45,
   "metadata": {
    "collapsed": true
   },
   "outputs": [],
   "source": [
    "#q4. Rank data_4 by population and take the top 6-105 cities.  Save this 100 cities data as data_5.\n",
    "data_5=data_4.sort_values(by=\"Population\",ascending=False)[5:105]"
   ]
  },
  {
   "cell_type": "code",
   "execution_count": 46,
   "metadata": {
    "collapsed": false
   },
   "outputs": [
    {
     "data": {
      "image/png": "[encoded data removed]",
      "text/plain": [
       "<matplotlib.figure.Figure at 0x7f63b9b6ef90>"
      ]
     },
     "metadata": {},
     "output_type": "display_data"
    }
   ],
   "source": [
    "# q5. Visulize the data. (Population, Total_earning) \n",
    "plt.scatter(data_5.Population,data_5.Total_earning)\n",
    "plt.show()"
   ]
  },
  {
   "cell_type": "markdown",
   "metadata": {},
   "source": [
    "#### Linear regression"
   ]
  },
  {
   "cell_type": "code",
   "execution_count": 47,
   "metadata": {
    "collapsed": false
   },
   "outputs": [
    {
     "name": "stdout",
     "output_type": "stream",
     "text": [
      "                            OLS Regression Results                            \n",
      "==============================================================================\n",
      "Dep. Variable:          Total_earning   R-squared:                       0.656\n",
      "Model:                            OLS   Adj. R-squared:                  0.653\n",
      "Method:                 Least Squares   F-statistic:                     187.0\n",
      "Date:                Wed, 14 Sep 2016   Prob (F-statistic):           1.88e-24\n",
      "Time:                        23:52:55   Log-Likelihood:                -2425.4\n",
      "No. Observations:                 100   AIC:                             4855.\n",
      "Df Residuals:                      98   BIC:                             4860.\n",
      "Df Model:                           1                                         \n",
      "Covariance Type:            nonrobust                                         \n",
      "==============================================================================\n",
      "                 coef    std err          t      P>|t|      [95.0% Conf. Int.]\n",
      "------------------------------------------------------------------------------\n",
      "Intercept  -4.801e+09   2.03e+09     -2.367      0.020     -8.83e+09 -7.77e+08\n",
      "Population  3.649e+04   2668.413     13.676      0.000      3.12e+04  4.18e+04\n",
      "==============================================================================\n",
      "Omnibus:                      149.125   Durbin-Watson:                   2.396\n",
      "Prob(Omnibus):                  0.000   Jarque-Bera (JB):             7450.679\n",
      "Skew:                           5.269   Prob(JB):                         0.00\n",
      "Kurtosis:                      43.952   Cond. No.                     1.85e+06\n",
      "==============================================================================\n",
      "\n",
      "Warnings:\n",
      "[1] Standard Errors assume that the covariance matrix of the errors is correctly specified.\n",
      "[2] The condition number is large, 1.85e+06. This might indicate that there are\n",
      "strong multicollinearity or other numerical problems.\n"
     ]
    }
   ],
   "source": [
    "# q6. Linear Model: Total_earning=w1*Population+w0  and get w1,w0 and R-squared. And plot the result.\n",
    "lm = smf.ols(formula='Total_earning ~ Population', data = data_5).fit()\n",
    "print(lm.summary())"
   ]
  },
  {
   "cell_type": "code",
   "execution_count": 48,
   "metadata": {
    "collapsed": false
   },
   "outputs": [
    {
     "data": {
      "image/png": "[encoded data removed]",
      "text/plain": [
       "<matplotlib.figure.Figure at 0x7f63b9b2f7d0>"
      ]
     },
     "metadata": {},
     "output_type": "display_data"
    }
   ],
   "source": [
    "plt.scatter(data_5.Population,data_5.Total_earning)\n",
    "plt.plot(data_5.Population,lm.predict(),'r-')\n",
    "plt.show()"
   ]
  },
  {
   "cell_type": "markdown",
   "metadata": {
    "collapsed": true
   },
   "source": [
    "#### Log Scale matters. Let's model this:  $y=w_0*x^{w_1}$ or $lny=w_1*lnx+lnw_0$"
   ]
  },
  {
   "cell_type": "code",
   "execution_count": 49,
   "metadata": {
    "collapsed": true
   },
   "outputs": [],
   "source": [
    "#q7. generate two new columns: log_Population and log_Total_earning in data_5 using np.log() function.\n",
    "data_5.loc[:,\"log_Population\"]=np.log(data_5.Population)\n",
    "data_5.loc[:,\"log_Total_earning\"]=np.log(data_5.Total_earning)"
   ]
  },
  {
   "cell_type": "code",
   "execution_count": 50,
   "metadata": {
    "collapsed": false
   },
   "outputs": [
    {
     "name": "stdout",
     "output_type": "stream",
     "text": [
      "                            OLS Regression Results                            \n",
      "==============================================================================\n",
      "Dep. Variable:      log_Total_earning   R-squared:                       0.837\n",
      "Model:                            OLS   Adj. R-squared:                  0.836\n",
      "Method:                 Least Squares   F-statistic:                     503.9\n",
      "Date:                Wed, 14 Sep 2016   Prob (F-statistic):           2.07e-40\n",
      "Time:                        23:53:03   Log-Likelihood:                 15.824\n",
      "No. Observations:                 100   AIC:                            -27.65\n",
      "Df Residuals:                      98   BIC:                            -22.44\n",
      "Df Model:                           1                                         \n",
      "Covariance Type:            nonrobust                                         \n",
      "==================================================================================\n",
      "                     coef    std err          t      P>|t|      [95.0% Conf. Int.]\n",
      "----------------------------------------------------------------------------------\n",
      "Intercept          8.3553      0.679     12.302      0.000         7.008     9.703\n",
      "log_Population     1.1407      0.051     22.448      0.000         1.040     1.242\n",
      "==============================================================================\n",
      "Omnibus:                       20.465   Durbin-Watson:                   2.081\n",
      "Prob(Omnibus):                  0.000   Jarque-Bera (JB):               50.681\n",
      "Skew:                           0.687   Prob(JB):                     9.88e-12\n",
      "Kurtosis:                       6.206   Cond. No.                         437.\n",
      "==============================================================================\n",
      "\n",
      "Warnings:\n",
      "[1] Standard Errors assume that the covariance matrix of the errors is correctly specified.\n"
     ]
    },
    {
     "data": {
      "image/png": "[encoded data removed]",
      "text/plain": [
       "<matplotlib.figure.Figure at 0x7f63b9b85c90>"
      ]
     },
     "metadata": {},
     "output_type": "display_data"
    }
   ],
   "source": [
    "#q8. Estimate the linear model on the log scale data. Get w1, and plot the result.\n",
    "lm = smf.ols(formula='log_Total_earning ~ log_Population', data = data_5).fit()\n",
    "print(lm.summary())\n",
    "\n",
    "plt.scatter(data_5.log_Population,data_5.log_Total_earning)\n",
    "plt.plot(data_5.log_Population,lm.predict(),'r-')\n",
    "plt.show()"
   ]
  },
  {
   "cell_type": "markdown",
   "metadata": {},
   "source": [
    "### What does w1 you get mean? "
   ]
  },
  {
   "cell_type": "code",
   "execution_count": null,
   "metadata": {
    "collapsed": true
   },
   "outputs": [],
   "source": []
  },
  {
   "cell_type": "code",
   "execution_count": null,
   "metadata": {
    "collapsed": true
   },
   "outputs": [],
   "source": []
  },
  {
   "cell_type": "code",
   "execution_count": null,
   "metadata": {
    "collapsed": true
   },
   "outputs": [],
   "source": []
  },
  {
   "cell_type": "markdown",
   "metadata": {
    "collapsed": true
   },
   "source": [
    "## Additional Exercise"
   ]
  },
  {
   "cell_type": "code",
   "execution_count": 51,
   "metadata": {
    "collapsed": false
   },
   "outputs": [],
   "source": [
    "X=range(30)"
   ]
  },
  {
   "cell_type": "code",
   "execution_count": 52,
   "metadata": {
    "collapsed": false
   },
   "outputs": [],
   "source": [
    "y=[10.510002888546763,12.763363507489128,227.31000343834808,22.859913338863414,\n",
    " 29.791177713218744,34.083946028994752,36.500469053890605,45.870326976245785,\n",
    " 51.345441611419325,251.73761940797698,62.306071605127286,265.55676014854777,\n",
    " 283.6155612514533,76.962641573902459,79.496241721573568,86.028437682788763,\n",
    " 88.937439246296179,94.495127926957224,103.23796332135052,107.05946537026669,\n",
    " 110.4423593384428,114.62100833835365,118.31512852349741,123.83280989935467,\n",
    "130.3690373811279,344.37082201108956,143.08321034902681,145.68536080665501,\n",
    " 149.2372875459116,156.63369414337157]\n",
    "## SS we can also add a plot here showing the data"
   ]
  },
  {
   "cell_type": "code",
   "execution_count": null,
   "metadata": {
    "collapsed": true
   },
   "outputs": [],
   "source": [
    "#Q1.Make a pandas datafram to store X and y. And change the column name to x and y or anything you prefer.\n",
    "#Q2. Estimate the coefficents: y=w1*x+w2. What is your w1 and w2?\n",
    "#Q3. What is your R2? \n",
    "#Q4. Let's get the predicted values and errors.(write them into the dataframe)"
   ]
  },
  {
   "cell_type": "code",
   "execution_count": 53,
   "metadata": {
    "collapsed": false
   },
   "outputs": [],
   "source": [
    "#Q1.\n",
    "data2=pd.DataFrame([X,y]).T\n",
    "data2.columns=[\"x\",\"y\"]"
   ]
  },
  {
   "cell_type": "code",
   "execution_count": 54,
   "metadata": {
    "collapsed": false
   },
   "outputs": [
    {
     "data": {
      "text/html": [
       "<div>\n",
       "<table border=\"1\" class=\"dataframe\">\n",
       "  <thead>\n",
       "    <tr style=\"text-align: right;\">\n",
       "      <th></th>\n",
       "      <th>x</th>\n",
       "      <th>y</th>\n",
       "    </tr>\n",
       "  </thead>\n",
       "  <tbody>\n",
       "    <tr>\n",
       "      <th>0</th>\n",
       "      <td>0.0</td>\n",
       "      <td>10.510003</td>\n",
       "    </tr>\n",
       "    <tr>\n",
       "      <th>1</th>\n",
       "      <td>1.0</td>\n",
       "      <td>12.763364</td>\n",
       "    </tr>\n",
       "    <tr>\n",
       "      <th>2</th>\n",
       "      <td>2.0</td>\n",
       "      <td>227.310003</td>\n",
       "    </tr>\n",
       "  </tbody>\n",
       "</table>\n",
       "</div>"
      ],
      "text/plain": [
       "     x           y\n",
       "0  0.0   10.510003\n",
       "1  1.0   12.763364\n",
       "2  2.0  227.310003"
      ]
     },
     "execution_count": 54,
     "metadata": {},
     "output_type": "execute_result"
    }
   ],
   "source": [
    "data2.head(3)"
   ]
  },
  {
   "cell_type": "code",
   "execution_count": 55,
   "metadata": {
    "collapsed": false
   },
   "outputs": [
    {
     "name": "stdout",
     "output_type": "stream",
     "text": [
      "                            OLS Regression Results                            \n",
      "==============================================================================\n",
      "Dep. Variable:                      y   R-squared:                       0.161\n",
      "Model:                            OLS   Adj. R-squared:                  0.131\n",
      "Method:                 Least Squares   F-statistic:                     5.381\n",
      "Date:                Wed, 14 Sep 2016   Prob (F-statistic):             0.0279\n",
      "Time:                        23:53:12   Log-Likelihood:                -172.46\n",
      "No. Observations:                  30   AIC:                             348.9\n",
      "Df Residuals:                      28   BIC:                             351.7\n",
      "Df Model:                           1                                         \n",
      "Covariance Type:            nonrobust                                         \n",
      "==============================================================================\n",
      "                 coef    std err          t      P>|t|      [95.0% Conf. Int.]\n",
      "------------------------------------------------------------------------------\n",
      "Intercept     61.1421     27.994      2.184      0.037         3.798   118.486\n",
      "X              3.8455      1.658      2.320      0.028         0.450     7.241\n",
      "==============================================================================\n",
      "Omnibus:                       15.714   Durbin-Watson:                   1.934\n",
      "Prob(Omnibus):                  0.000   Jarque-Bera (JB):               16.816\n",
      "Skew:                           1.738   Prob(JB):                     0.000223\n",
      "Kurtosis:                       4.171   Cond. No.                         33.0\n",
      "==============================================================================\n",
      "\n",
      "Warnings:\n",
      "[1] Standard Errors assume that the covariance matrix of the errors is correctly specified.\n"
     ]
    }
   ],
   "source": [
    "#Q2.\n",
    "import statsmodels.formula.api as smf\n",
    "lm2 = smf.ols(formula='y ~ X', data = data2).fit()\n",
    "print lm2.summary()"
   ]
  },
  {
   "cell_type": "code",
   "execution_count": 56,
   "metadata": {
    "collapsed": false
   },
   "outputs": [
    {
     "data": {
      "text/plain": [
       "0.16119873998460765"
      ]
     },
     "execution_count": 56,
     "metadata": {},
     "output_type": "execute_result"
    }
   ],
   "source": [
    "#Q3\n",
    "lm2.rsquared"
   ]
  },
  {
   "cell_type": "code",
   "execution_count": 57,
   "metadata": {
    "collapsed": false
   },
   "outputs": [
    {
     "data": {
      "text/html": [
       "<div>\n",
       "<table border=\"1\" class=\"dataframe\">\n",
       "  <thead>\n",
       "    <tr style=\"text-align: right;\">\n",
       "      <th></th>\n",
       "      <th>x</th>\n",
       "      <th>y</th>\n",
       "      <th>pred</th>\n",
       "      <th>error</th>\n",
       "    </tr>\n",
       "  </thead>\n",
       "  <tbody>\n",
       "    <tr>\n",
       "      <th>0</th>\n",
       "      <td>0.0</td>\n",
       "      <td>10.510003</td>\n",
       "      <td>61.142112</td>\n",
       "      <td>-50.632109</td>\n",
       "    </tr>\n",
       "    <tr>\n",
       "      <th>1</th>\n",
       "      <td>1.0</td>\n",
       "      <td>12.763364</td>\n",
       "      <td>64.987619</td>\n",
       "      <td>-52.224255</td>\n",
       "    </tr>\n",
       "    <tr>\n",
       "      <th>2</th>\n",
       "      <td>2.0</td>\n",
       "      <td>227.310003</td>\n",
       "      <td>68.833125</td>\n",
       "      <td>158.476878</td>\n",
       "    </tr>\n",
       "  </tbody>\n",
       "</table>\n",
       "</div>"
      ],
      "text/plain": [
       "     x           y       pred       error\n",
       "0  0.0   10.510003  61.142112  -50.632109\n",
       "1  1.0   12.763364  64.987619  -52.224255\n",
       "2  2.0  227.310003  68.833125  158.476878"
      ]
     },
     "execution_count": 57,
     "metadata": {},
     "output_type": "execute_result"
    }
   ],
   "source": [
    "#Q4\n",
    "data2.loc[:,\"pred\"]=lm2.predict()\n",
    "data2.loc[:,\"error\"]=lm2.resid\n",
    "data2.head(3)"
   ]
  },
  {
   "cell_type": "code",
   "execution_count": 58,
   "metadata": {
    "collapsed": true
   },
   "outputs": [],
   "source": [
    "#Q5. Let's plot the result to have a look? What you found from the plot? Do you \n",
    "# feel some strange part about the data? What if I am a very careless person and\n",
    "#accidently recorded the data wrongly with several observations. Who knows?\n",
    "\n",
    "#Q6. Any better possible model(suggestions)? \n",
    "#(Do it at home and search: sklearn.linear_model.RANSACRegressor or \n",
    "# sklearn.linear_model.TheilSenRegressor)"
   ]
  },
  {
   "cell_type": "code",
   "execution_count": 59,
   "metadata": {
    "collapsed": false
   },
   "outputs": [
    {
     "data": {
      "image/png": "[encoded data removed]",
      "text/plain": [
       "<matplotlib.figure.Figure at 0x7f63b88f8310>"
      ]
     },
     "metadata": {},
     "output_type": "display_data"
    }
   ],
   "source": [
    "#Q5.\n",
    "import matplotlib.pylab as plt\n",
    "%matplotlib inline\n",
    "plt.figure(figsize=(6,6))\n",
    "plt.scatter(X,y)\n",
    "plt.plot(data2.pred,c=\"r\")\n",
    "plt.show()"
   ]
  },
  {
   "cell_type": "markdown",
   "metadata": {},
   "source": [
    "#### Q6**: outliers (google those models to take a look) [Take home works.]\n",
    "sklearn.linear_model.RANSACRegressor\n",
    "\n",
    "sklearn.linear_model.TheilSenRegressor"
   ]
  },
  {
   "cell_type": "code",
   "execution_count": 60,
   "metadata": {
    "collapsed": false
   },
   "outputs": [
    {
     "name": "stdout",
     "output_type": "stream",
     "text": [
      "Estimated coefficients (true, normal, RANSAC):\n",
      "(5, array([ 3.8455065]), array([ 5.05916438]))\n"
     ]
    },
    {
     "data": {
      "image/png": "[encoded data removed]",
      "text/plain": [
       "<matplotlib.figure.Figure at 0x7f63b9bba2d0>"
      ]
     },
     "metadata": {},
     "output_type": "display_data"
    }
   ],
   "source": [
    "#  Use \"Ctrl+A\" to select all codes in this cell.\n",
    "#  Use \"Ctrl+/\" to remove/add comments.\n",
    "\n",
    "#Q6\n",
    "from sklearn import linear_model\n",
    "#this step is important since the API of this model only take this shape of data\n",
    "X=np.asarray(data2.x).reshape(len(data2),1)\n",
    "y=np.asarray(data2.y)\n",
    "# Fit line using all data\n",
    "model = linear_model.LinearRegression()\n",
    "model.fit(X, y)\n",
    "\n",
    "# Robustly fit linear model with RANSAC algorithm\n",
    "model_ransac = linear_model.RANSACRegressor(linear_model.LinearRegression())\n",
    "model_ransac.fit(X, y)\n",
    "inlier_mask = model_ransac.inlier_mask_\n",
    "outlier_mask = np.logical_not(inlier_mask)\n",
    "\n",
    "# Predict data of estimated models\n",
    "line_X = np.arange(0, 30)\n",
    "line_y = model.predict(line_X[:, np.newaxis])\n",
    "line_y_ransac = model_ransac.predict(line_X[:, np.newaxis])\n",
    "\n",
    "# Compare estimated coefficients\n",
    "print(\"Estimated coefficients (true, normal, RANSAC):\")\n",
    "print(5, model.coef_, model_ransac.estimator_.coef_)\n",
    "\n",
    "plt.figure(figsize=(8,8))\n",
    "plt.plot(X[inlier_mask], y[inlier_mask], '.g', label='Inliers')\n",
    "plt.plot(X[outlier_mask], y[outlier_mask], '.r', label='Outliers')\n",
    "plt.plot(line_X, line_y, '-k', label='Linear regressor')\n",
    "plt.plot(line_X, line_y_ransac, '-b', label='RANSAC regressor')\n",
    "plt.legend(loc='lower right')\n",
    "plt.show()"
   ]
  }
 ],
 "metadata": {
  "anaconda-cloud": {},
  "kernelspec": {
   "display_name": "Python [conda root]",
   "language": "python",
   "name": "conda-root-py"
  },
  "language_info": {
   "codemirror_mode": {
    "name": "ipython",
    "version": 2
   },
   "file_extension": ".py",
   "mimetype": "text/x-python",
   "name": "python",
   "nbconvert_exporter": "python",
   "pygments_lexer": "ipython2",
   "version": "2.7.12"
  }
 },
 "nbformat": 4,
 "nbformat_minor": 0
}
