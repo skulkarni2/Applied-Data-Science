{
 "cells": [
  {
   "cell_type": "markdown",
   "metadata": {},
   "source": [
    "### Question (1): (10pt)\n",
    "\n",
    "Suppose that the independent variable $x$ has n observations: $(x_1,x_2,...x_n)$ and the dependent variable $y$ has corresponding observations: $(y_1, y_2,...,y_n)$. If the correlation between these two sequences $corr(x,y)=0.01$, which of the following statements are true? Please select all the right answers.\n",
    "\n",
    "(a) There should be no strong relation between $x$ and $y$.\n",
    "\n",
    "(b) There could be some strong linear relationship between $x$ and $y$.\n",
    "\n",
    "(c) If we build a linear regression between $y$ and $x$ as $y=wx$, we could conclude that the OLS estimation for $w$ should be around 0.01.\n",
    "\n",
    "(d) Certain relation between $x$ and $y$ could still exist, but it should be non-linear."
   ]
  },
  {
   "cell_type": "markdown",
   "metadata": {},
   "source": [
    "### A. There should be no strong relation between x and y\n",
    "### D. Certain relation between x and y could still exist, but it should be non-linear."
   ]
  },
  {
   "cell_type": "markdown",
   "metadata": {},
   "source": [
    "### Question (2): (10pt)\n",
    "\n"
   ]
  },
  {
   "cell_type": "markdown",
   "metadata": {},
   "source": [
    "Consider a model\n",
    "\n",
    "$y=x^{b}$ where $b>0$. \n",
    "\n",
    "Now, suppose x doubles (originally $x>0$). How would y change with respect to this change of x? Let us denote new $y$ as $y'$. Please select all the right answers from below. \n",
    "\n",
    "(a) $y'>2y$ if b is bigger than one.\n",
    "\n",
    "(b) $y'<2y$ if b is less than one.\n",
    "\n",
    "(c) $y'=2y$ in any case.\n",
    "\n",
    "(d) $y'$ increases by $(2^b-1)*100\\%$."
   ]
  },
  {
   "cell_type": "markdown",
   "metadata": {
    "collapsed": true
   },
   "source": [
    "### A\n",
    "### B \n",
    "### D"
   ]
  },
  {
   "cell_type": "code",
   "execution_count": 1,
   "metadata": {
    "collapsed": true
   },
   "outputs": [],
   "source": [
    "import pandas as pd\n",
    "import numpy as np\n",
    "import statsmodels.formula.api as smf\n",
    "import math\n",
    "import matplotlib.pylab as plt\n",
    "%matplotlib inline"
   ]
  },
  {
   "cell_type": "markdown",
   "metadata": {},
   "source": [
    "### Question (3): (30 pt)\n"
   ]
  },
  {
   "cell_type": "code",
   "execution_count": 11,
   "metadata": {
    "collapsed": true
   },
   "outputs": [],
   "source": [
    "x=[0, 1, 2, 3, 4, 5, 6, 7, 8, 9, 10, 11, 12, 13, 14, 15, 16, 17, 18, 19]"
   ]
  },
  {
   "cell_type": "code",
   "execution_count": 12,
   "metadata": {
    "collapsed": true
   },
   "outputs": [],
   "source": [
    "y=[28.0, 24.0, 37.0, -7.0, 28.0, 71.0, 89.0, 60.0, 100.0, 108.0, 116.0, \n",
    "   110.0, 114.0, 123.0, 124.0, 165.0, 169.0, 211.0, 211.0, 208.0]"
   ]
  },
  {
   "cell_type": "markdown",
   "metadata": {},
   "source": [
    "### (a) Calculate corr(x,y) without using a build-in function for the correlation coefficient."
   ]
  },
  {
   "cell_type": "code",
   "execution_count": 16,
   "metadata": {
    "collapsed": false
   },
   "outputs": [
    {
     "name": "stdout",
     "output_type": "stream",
     "text": [
      "0.957143492915\n"
     ]
    }
   ],
   "source": [
    "n = len(x)\n",
    "avg_x = np.mean(x)\n",
    "avg_y = np.mean(y)\n",
    "diffprod = 0\n",
    "xdiff2 = 0\n",
    "ydiff2 = 0\n",
    "for idx in range(n):\n",
    "        xdiff = x[idx] - avg_x\n",
    "        ydiff = y[idx] - avg_y\n",
    "        diffprod += xdiff * ydiff\n",
    "        xdiff2 += xdiff * xdiff\n",
    "        ydiff2 += ydiff * ydiff\n",
    "\n",
    "corr_corf = diffprod / math.sqrt(xdiff2 * ydiff2)\n",
    "print corr_corf"
   ]
  },
  {
   "cell_type": "markdown",
   "metadata": {},
   "source": [
    "Checking the correlation coefficient by built-in function"
   ]
  },
  {
   "cell_type": "code",
   "execution_count": 33,
   "metadata": {
    "collapsed": false,
    "scrolled": true
   },
   "outputs": [
    {
     "data": {
      "text/html": [
       "<div>\n",
       "<table border=\"1\" class=\"dataframe\">\n",
       "  <thead>\n",
       "    <tr style=\"text-align: right;\">\n",
       "      <th></th>\n",
       "      <th>x</th>\n",
       "      <th>y</th>\n",
       "    </tr>\n",
       "  </thead>\n",
       "  <tbody>\n",
       "    <tr>\n",
       "      <th>x</th>\n",
       "      <td>1.000000</td>\n",
       "      <td>0.957143</td>\n",
       "    </tr>\n",
       "    <tr>\n",
       "      <th>y</th>\n",
       "      <td>0.957143</td>\n",
       "      <td>1.000000</td>\n",
       "    </tr>\n",
       "  </tbody>\n",
       "</table>\n",
       "</div>"
      ],
      "text/plain": [
       "          x         y\n",
       "x  1.000000  0.957143\n",
       "y  0.957143  1.000000"
      ]
     },
     "execution_count": 33,
     "metadata": {},
     "output_type": "execute_result"
    }
   ],
   "source": [
    "data=pd.DataFrame([list(x),list(y)]).T\n",
    "data.columns=[\"x\",\"y\"]\n",
    "data.head(3)\n",
    "data.corr()"
   ]
  },
  {
   "cell_type": "markdown",
   "metadata": {},
   "source": [
    "### (b) Estimate linear model $y=w_1*x+w_0$ using OLS formulas and without using build-in functions for the linear regression. What is  $w_1$ and $w_0$? What is $R^2$?"
   ]
  },
  {
   "cell_type": "code",
   "execution_count": 34,
   "metadata": {
    "collapsed": false
   },
   "outputs": [
    {
     "name": "stdout",
     "output_type": "stream",
     "text": [
      "w1 is : 10.5466165414\n"
     ]
    }
   ],
   "source": [
    "data.loc[:,\"x_sqr\"]=data.x*data.x\n",
    "data.loc[:,\"xy\"]=data.x*data.y\n",
    "# calculate w1. \n",
    "w1=(data.xy.sum()-data.y.sum()*data.x.sum()/len(data))/(data.x_sqr.sum()-data.x.sum()*data.x.sum()/len(data))\n",
    "print(\"w1 is : {}\".format(w1))"
   ]
  },
  {
   "cell_type": "code",
   "execution_count": 35,
   "metadata": {
    "collapsed": false
   },
   "outputs": [
    {
     "name": "stdout",
     "output_type": "stream",
     "text": [
      "w0 is : 4.25714285714\n"
     ]
    }
   ],
   "source": [
    "#calculate w0\n",
    "w0=(data.y-data.x*w1).mean()\n",
    "print(\"w0 is : {}\".format(w0))"
   ]
  },
  {
   "cell_type": "code",
   "execution_count": 36,
   "metadata": {
    "collapsed": false
   },
   "outputs": [
    {
     "data": {
      "text/html": [
       "<div>\n",
       "<table border=\"1\" class=\"dataframe\">\n",
       "  <thead>\n",
       "    <tr style=\"text-align: right;\">\n",
       "      <th></th>\n",
       "      <th>x</th>\n",
       "      <th>y</th>\n",
       "      <th>x_sqr</th>\n",
       "      <th>xy</th>\n",
       "      <th>pred</th>\n",
       "      <th>err</th>\n",
       "    </tr>\n",
       "  </thead>\n",
       "  <tbody>\n",
       "    <tr>\n",
       "      <th>0</th>\n",
       "      <td>0.0</td>\n",
       "      <td>28.0</td>\n",
       "      <td>0.0</td>\n",
       "      <td>0.0</td>\n",
       "      <td>4.257143</td>\n",
       "      <td>23.742857</td>\n",
       "    </tr>\n",
       "    <tr>\n",
       "      <th>1</th>\n",
       "      <td>1.0</td>\n",
       "      <td>24.0</td>\n",
       "      <td>1.0</td>\n",
       "      <td>24.0</td>\n",
       "      <td>14.803759</td>\n",
       "      <td>9.196241</td>\n",
       "    </tr>\n",
       "    <tr>\n",
       "      <th>2</th>\n",
       "      <td>2.0</td>\n",
       "      <td>37.0</td>\n",
       "      <td>4.0</td>\n",
       "      <td>74.0</td>\n",
       "      <td>25.350376</td>\n",
       "      <td>11.649624</td>\n",
       "    </tr>\n",
       "  </tbody>\n",
       "</table>\n",
       "</div>"
      ],
      "text/plain": [
       "     x     y  x_sqr    xy       pred        err\n",
       "0  0.0  28.0    0.0   0.0   4.257143  23.742857\n",
       "1  1.0  24.0    1.0  24.0  14.803759   9.196241\n",
       "2  2.0  37.0    4.0  74.0  25.350376  11.649624"
      ]
     },
     "execution_count": 36,
     "metadata": {},
     "output_type": "execute_result"
    }
   ],
   "source": [
    "# Predicted values and errors\n",
    "data.loc[:,\"pred\"]=w1*data.x+w0\n",
    "data.loc[:,\"err\"]=data.y-data.pred\n",
    "data.head(3)"
   ]
  },
  {
   "cell_type": "code",
   "execution_count": 37,
   "metadata": {
    "collapsed": false
   },
   "outputs": [
    {
     "data": {
      "text/plain": [
       "0.9161236660304586"
      ]
     },
     "execution_count": 37,
     "metadata": {},
     "output_type": "execute_result"
    }
   ],
   "source": [
    "#Calculate R-squared.\n",
    "R_2=1-(data.err**2).sum()/((data.y-data.y.mean())**2).sum()\n",
    "R_2"
   ]
  },
  {
   "cell_type": "markdown",
   "metadata": {},
   "source": [
    "### (c) Use regression function to double check your answer making sure that your calculation is correct. "
   ]
  },
  {
   "cell_type": "code",
   "execution_count": 38,
   "metadata": {
    "collapsed": false
   },
   "outputs": [
    {
     "name": "stdout",
     "output_type": "stream",
     "text": [
      "Intercept     4.257143\n",
      "x            10.546617\n",
      "dtype: float64\n",
      "0.91612366603\n"
     ]
    }
   ],
   "source": [
    "lm = smf.ols(formula='y ~ x', data = data).fit()\n",
    "print lm.params\n",
    "print lm.rsquared"
   ]
  },
  {
   "cell_type": "markdown",
   "metadata": {},
   "source": [
    "### Question (4): (30pt) "
   ]
  },
  {
   "cell_type": "markdown",
   "metadata": {},
   "source": [
    "For the data below estimate a model: AssessTot = w* LotArea (with and without intercept)\n",
    "\n",
    "LotArea: Total area of the tax lot\n",
    "\n",
    "AssessTot: The actual assessed total value of Final Year 2015"
   ]
  },
  {
   "cell_type": "code",
   "execution_count": 2,
   "metadata": {
    "collapsed": true
   },
   "outputs": [],
   "source": [
    "data_4=pd.read_csv(\"https://serv.cusp.nyu.edu/~lw1474/ADS_Data/Session02/Housing_Pluto_Session2.csv\")"
   ]
  },
  {
   "cell_type": "code",
   "execution_count": 3,
   "metadata": {
    "collapsed": false
   },
   "outputs": [
    {
     "data": {
      "text/html": [
       "<div>\n",
       "<table border=\"1\" class=\"dataframe\">\n",
       "  <thead>\n",
       "    <tr style=\"text-align: right;\">\n",
       "      <th></th>\n",
       "      <th>ZipCode</th>\n",
       "      <th>LotArea</th>\n",
       "      <th>AssessTot</th>\n",
       "    </tr>\n",
       "  </thead>\n",
       "  <tbody>\n",
       "    <tr>\n",
       "      <th>0</th>\n",
       "      <td>11201.0</td>\n",
       "      <td>151930</td>\n",
       "      <td>1164645</td>\n",
       "    </tr>\n",
       "    <tr>\n",
       "      <th>1</th>\n",
       "      <td>11201.0</td>\n",
       "      <td>9620</td>\n",
       "      <td>5864850</td>\n",
       "    </tr>\n",
       "    <tr>\n",
       "      <th>2</th>\n",
       "      <td>11201.0</td>\n",
       "      <td>19682</td>\n",
       "      <td>12019950</td>\n",
       "    </tr>\n",
       "    <tr>\n",
       "      <th>3</th>\n",
       "      <td>NaN</td>\n",
       "      <td>0</td>\n",
       "      <td>0</td>\n",
       "    </tr>\n",
       "    <tr>\n",
       "      <th>4</th>\n",
       "      <td>11201.0</td>\n",
       "      <td>387060</td>\n",
       "      <td>0</td>\n",
       "    </tr>\n",
       "    <tr>\n",
       "      <th>5</th>\n",
       "      <td>11201.0</td>\n",
       "      <td>6384</td>\n",
       "      <td>21150</td>\n",
       "    </tr>\n",
       "    <tr>\n",
       "      <th>6</th>\n",
       "      <td>11201.0</td>\n",
       "      <td>0</td>\n",
       "      <td>1800</td>\n",
       "    </tr>\n",
       "    <tr>\n",
       "      <th>7</th>\n",
       "      <td>11201.0</td>\n",
       "      <td>0</td>\n",
       "      <td>0</td>\n",
       "    </tr>\n",
       "    <tr>\n",
       "      <th>8</th>\n",
       "      <td>11201.0</td>\n",
       "      <td>0</td>\n",
       "      <td>1800</td>\n",
       "    </tr>\n",
       "    <tr>\n",
       "      <th>9</th>\n",
       "      <td>11201.0</td>\n",
       "      <td>323307</td>\n",
       "      <td>0</td>\n",
       "    </tr>\n",
       "    <tr>\n",
       "      <th>10</th>\n",
       "      <td>11201.0</td>\n",
       "      <td>66889</td>\n",
       "      <td>11700</td>\n",
       "    </tr>\n",
       "    <tr>\n",
       "      <th>11</th>\n",
       "      <td>NaN</td>\n",
       "      <td>0</td>\n",
       "      <td>0</td>\n",
       "    </tr>\n",
       "    <tr>\n",
       "      <th>12</th>\n",
       "      <td>11201.0</td>\n",
       "      <td>4644</td>\n",
       "      <td>109620</td>\n",
       "    </tr>\n",
       "    <tr>\n",
       "      <th>13</th>\n",
       "      <td>11201.0</td>\n",
       "      <td>517</td>\n",
       "      <td>459</td>\n",
       "    </tr>\n",
       "    <tr>\n",
       "      <th>14</th>\n",
       "      <td>11201.0</td>\n",
       "      <td>4293</td>\n",
       "      <td>4590</td>\n",
       "    </tr>\n",
       "    <tr>\n",
       "      <th>15</th>\n",
       "      <td>11201.0</td>\n",
       "      <td>80873</td>\n",
       "      <td>679140</td>\n",
       "    </tr>\n",
       "    <tr>\n",
       "      <th>16</th>\n",
       "      <td>11201.0</td>\n",
       "      <td>29955</td>\n",
       "      <td>265500</td>\n",
       "    </tr>\n",
       "    <tr>\n",
       "      <th>17</th>\n",
       "      <td>11201.0</td>\n",
       "      <td>59</td>\n",
       "      <td>1620</td>\n",
       "    </tr>\n",
       "    <tr>\n",
       "      <th>18</th>\n",
       "      <td>11201.0</td>\n",
       "      <td>10650</td>\n",
       "      <td>309600</td>\n",
       "    </tr>\n",
       "    <tr>\n",
       "      <th>19</th>\n",
       "      <td>11201.0</td>\n",
       "      <td>0</td>\n",
       "      <td>0</td>\n",
       "    </tr>\n",
       "    <tr>\n",
       "      <th>20</th>\n",
       "      <td>11201.0</td>\n",
       "      <td>102754</td>\n",
       "      <td>907650</td>\n",
       "    </tr>\n",
       "    <tr>\n",
       "      <th>21</th>\n",
       "      <td>11201.0</td>\n",
       "      <td>44000</td>\n",
       "      <td>201600</td>\n",
       "    </tr>\n",
       "    <tr>\n",
       "      <th>22</th>\n",
       "      <td>11201.0</td>\n",
       "      <td>4800</td>\n",
       "      <td>25200</td>\n",
       "    </tr>\n",
       "    <tr>\n",
       "      <th>23</th>\n",
       "      <td>11201.0</td>\n",
       "      <td>41250</td>\n",
       "      <td>6977700</td>\n",
       "    </tr>\n",
       "    <tr>\n",
       "      <th>24</th>\n",
       "      <td>11201.0</td>\n",
       "      <td>41400</td>\n",
       "      <td>26132850</td>\n",
       "    </tr>\n",
       "    <tr>\n",
       "      <th>25</th>\n",
       "      <td>11201.0</td>\n",
       "      <td>18955</td>\n",
       "      <td>1484550</td>\n",
       "    </tr>\n",
       "    <tr>\n",
       "      <th>26</th>\n",
       "      <td>11201.0</td>\n",
       "      <td>9545</td>\n",
       "      <td>2665350</td>\n",
       "    </tr>\n",
       "    <tr>\n",
       "      <th>27</th>\n",
       "      <td>11201.0</td>\n",
       "      <td>21150</td>\n",
       "      <td>1376100</td>\n",
       "    </tr>\n",
       "    <tr>\n",
       "      <th>28</th>\n",
       "      <td>11201.0</td>\n",
       "      <td>12600</td>\n",
       "      <td>2238300</td>\n",
       "    </tr>\n",
       "    <tr>\n",
       "      <th>29</th>\n",
       "      <td>11201.0</td>\n",
       "      <td>22300</td>\n",
       "      <td>1880550</td>\n",
       "    </tr>\n",
       "    <tr>\n",
       "      <th>...</th>\n",
       "      <td>...</td>\n",
       "      <td>...</td>\n",
       "      <td>...</td>\n",
       "    </tr>\n",
       "    <tr>\n",
       "      <th>277542</th>\n",
       "      <td>11229.0</td>\n",
       "      <td>3570</td>\n",
       "      <td>23288</td>\n",
       "    </tr>\n",
       "    <tr>\n",
       "      <th>277543</th>\n",
       "      <td>11229.0</td>\n",
       "      <td>1785</td>\n",
       "      <td>18282</td>\n",
       "    </tr>\n",
       "    <tr>\n",
       "      <th>277544</th>\n",
       "      <td>11229.0</td>\n",
       "      <td>3570</td>\n",
       "      <td>29112</td>\n",
       "    </tr>\n",
       "    <tr>\n",
       "      <th>277545</th>\n",
       "      <td>11229.0</td>\n",
       "      <td>1785</td>\n",
       "      <td>20300</td>\n",
       "    </tr>\n",
       "    <tr>\n",
       "      <th>277546</th>\n",
       "      <td>11229.0</td>\n",
       "      <td>3570</td>\n",
       "      <td>22213</td>\n",
       "    </tr>\n",
       "    <tr>\n",
       "      <th>277547</th>\n",
       "      <td>11229.0</td>\n",
       "      <td>1785</td>\n",
       "      <td>13737</td>\n",
       "    </tr>\n",
       "    <tr>\n",
       "      <th>277548</th>\n",
       "      <td>11229.0</td>\n",
       "      <td>1785</td>\n",
       "      <td>19779</td>\n",
       "    </tr>\n",
       "    <tr>\n",
       "      <th>277549</th>\n",
       "      <td>11229.0</td>\n",
       "      <td>1785</td>\n",
       "      <td>2487</td>\n",
       "    </tr>\n",
       "    <tr>\n",
       "      <th>277550</th>\n",
       "      <td>11229.0</td>\n",
       "      <td>1785</td>\n",
       "      <td>18270</td>\n",
       "    </tr>\n",
       "    <tr>\n",
       "      <th>277551</th>\n",
       "      <td>11229.0</td>\n",
       "      <td>1785</td>\n",
       "      <td>19704</td>\n",
       "    </tr>\n",
       "    <tr>\n",
       "      <th>277552</th>\n",
       "      <td>11229.0</td>\n",
       "      <td>1785</td>\n",
       "      <td>2232</td>\n",
       "    </tr>\n",
       "    <tr>\n",
       "      <th>277553</th>\n",
       "      <td>11229.0</td>\n",
       "      <td>1785</td>\n",
       "      <td>19704</td>\n",
       "    </tr>\n",
       "    <tr>\n",
       "      <th>277554</th>\n",
       "      <td>11229.0</td>\n",
       "      <td>1785</td>\n",
       "      <td>18460</td>\n",
       "    </tr>\n",
       "    <tr>\n",
       "      <th>277555</th>\n",
       "      <td>11229.0</td>\n",
       "      <td>1785</td>\n",
       "      <td>49163</td>\n",
       "    </tr>\n",
       "    <tr>\n",
       "      <th>277556</th>\n",
       "      <td>11229.0</td>\n",
       "      <td>1785</td>\n",
       "      <td>49163</td>\n",
       "    </tr>\n",
       "    <tr>\n",
       "      <th>277557</th>\n",
       "      <td>11229.0</td>\n",
       "      <td>3918</td>\n",
       "      <td>108158</td>\n",
       "    </tr>\n",
       "    <tr>\n",
       "      <th>277558</th>\n",
       "      <td>11229.0</td>\n",
       "      <td>1785</td>\n",
       "      <td>2232</td>\n",
       "    </tr>\n",
       "    <tr>\n",
       "      <th>277559</th>\n",
       "      <td>11229.0</td>\n",
       "      <td>1785</td>\n",
       "      <td>21942</td>\n",
       "    </tr>\n",
       "    <tr>\n",
       "      <th>277560</th>\n",
       "      <td>11229.0</td>\n",
       "      <td>3570</td>\n",
       "      <td>27796</td>\n",
       "    </tr>\n",
       "    <tr>\n",
       "      <th>277561</th>\n",
       "      <td>11229.0</td>\n",
       "      <td>1785</td>\n",
       "      <td>22213</td>\n",
       "    </tr>\n",
       "    <tr>\n",
       "      <th>277562</th>\n",
       "      <td>11229.0</td>\n",
       "      <td>1785</td>\n",
       "      <td>5643</td>\n",
       "    </tr>\n",
       "    <tr>\n",
       "      <th>277563</th>\n",
       "      <td>11229.0</td>\n",
       "      <td>3570</td>\n",
       "      <td>25081</td>\n",
       "    </tr>\n",
       "    <tr>\n",
       "      <th>277564</th>\n",
       "      <td>11229.0</td>\n",
       "      <td>1785</td>\n",
       "      <td>18062</td>\n",
       "    </tr>\n",
       "    <tr>\n",
       "      <th>277565</th>\n",
       "      <td>11229.0</td>\n",
       "      <td>1785</td>\n",
       "      <td>2487</td>\n",
       "    </tr>\n",
       "    <tr>\n",
       "      <th>277566</th>\n",
       "      <td>11229.0</td>\n",
       "      <td>1785</td>\n",
       "      <td>18270</td>\n",
       "    </tr>\n",
       "    <tr>\n",
       "      <th>277567</th>\n",
       "      <td>11229.0</td>\n",
       "      <td>1785</td>\n",
       "      <td>22197</td>\n",
       "    </tr>\n",
       "    <tr>\n",
       "      <th>277568</th>\n",
       "      <td>11229.0</td>\n",
       "      <td>1785</td>\n",
       "      <td>2232</td>\n",
       "    </tr>\n",
       "    <tr>\n",
       "      <th>277569</th>\n",
       "      <td>11229.0</td>\n",
       "      <td>1785</td>\n",
       "      <td>18189</td>\n",
       "    </tr>\n",
       "    <tr>\n",
       "      <th>277570</th>\n",
       "      <td>11229.0</td>\n",
       "      <td>3570</td>\n",
       "      <td>98325</td>\n",
       "    </tr>\n",
       "    <tr>\n",
       "      <th>277571</th>\n",
       "      <td>11229.0</td>\n",
       "      <td>3209</td>\n",
       "      <td>88493</td>\n",
       "    </tr>\n",
       "  </tbody>\n",
       "</table>\n",
       "<p>277572 rows × 3 columns</p>\n",
       "</div>"
      ],
      "text/plain": [
       "        ZipCode  LotArea  AssessTot\n",
       "0       11201.0   151930    1164645\n",
       "1       11201.0     9620    5864850\n",
       "2       11201.0    19682   12019950\n",
       "3           NaN        0          0\n",
       "4       11201.0   387060          0\n",
       "5       11201.0     6384      21150\n",
       "6       11201.0        0       1800\n",
       "7       11201.0        0          0\n",
       "8       11201.0        0       1800\n",
       "9       11201.0   323307          0\n",
       "10      11201.0    66889      11700\n",
       "11          NaN        0          0\n",
       "12      11201.0     4644     109620\n",
       "13      11201.0      517        459\n",
       "14      11201.0     4293       4590\n",
       "15      11201.0    80873     679140\n",
       "16      11201.0    29955     265500\n",
       "17      11201.0       59       1620\n",
       "18      11201.0    10650     309600\n",
       "19      11201.0        0          0\n",
       "20      11201.0   102754     907650\n",
       "21      11201.0    44000     201600\n",
       "22      11201.0     4800      25200\n",
       "23      11201.0    41250    6977700\n",
       "24      11201.0    41400   26132850\n",
       "25      11201.0    18955    1484550\n",
       "26      11201.0     9545    2665350\n",
       "27      11201.0    21150    1376100\n",
       "28      11201.0    12600    2238300\n",
       "29      11201.0    22300    1880550\n",
       "...         ...      ...        ...\n",
       "277542  11229.0     3570      23288\n",
       "277543  11229.0     1785      18282\n",
       "277544  11229.0     3570      29112\n",
       "277545  11229.0     1785      20300\n",
       "277546  11229.0     3570      22213\n",
       "277547  11229.0     1785      13737\n",
       "277548  11229.0     1785      19779\n",
       "277549  11229.0     1785       2487\n",
       "277550  11229.0     1785      18270\n",
       "277551  11229.0     1785      19704\n",
       "277552  11229.0     1785       2232\n",
       "277553  11229.0     1785      19704\n",
       "277554  11229.0     1785      18460\n",
       "277555  11229.0     1785      49163\n",
       "277556  11229.0     1785      49163\n",
       "277557  11229.0     3918     108158\n",
       "277558  11229.0     1785       2232\n",
       "277559  11229.0     1785      21942\n",
       "277560  11229.0     3570      27796\n",
       "277561  11229.0     1785      22213\n",
       "277562  11229.0     1785       5643\n",
       "277563  11229.0     3570      25081\n",
       "277564  11229.0     1785      18062\n",
       "277565  11229.0     1785       2487\n",
       "277566  11229.0     1785      18270\n",
       "277567  11229.0     1785      22197\n",
       "277568  11229.0     1785       2232\n",
       "277569  11229.0     1785      18189\n",
       "277570  11229.0     3570      98325\n",
       "277571  11229.0     3209      88493\n",
       "\n",
       "[277572 rows x 3 columns]"
      ]
     },
     "execution_count": 3,
     "metadata": {},
     "output_type": "execute_result"
    }
   ],
   "source": [
    "data_4"
   ]
  },
  {
   "cell_type": "code",
   "execution_count": 4,
   "metadata": {
    "collapsed": false
   },
   "outputs": [
    {
     "name": "stderr",
     "output_type": "stream",
     "text": [
      "/Users/Shalmali/anaconda/lib/python2.7/site-packages/numpy/lib/function_base.py:3834: RuntimeWarning: Invalid value encountered in percentile\n",
      "  RuntimeWarning)\n"
     ]
    },
    {
     "data": {
      "text/html": [
       "<div>\n",
       "<table border=\"1\" class=\"dataframe\">\n",
       "  <thead>\n",
       "    <tr style=\"text-align: right;\">\n",
       "      <th></th>\n",
       "      <th>ZipCode</th>\n",
       "      <th>LotArea</th>\n",
       "      <th>AssessTot</th>\n",
       "    </tr>\n",
       "  </thead>\n",
       "  <tbody>\n",
       "    <tr>\n",
       "      <th>count</th>\n",
       "      <td>276923.000000</td>\n",
       "      <td>2.775720e+05</td>\n",
       "      <td>2.775720e+05</td>\n",
       "    </tr>\n",
       "    <tr>\n",
       "      <th>mean</th>\n",
       "      <td>11220.413241</td>\n",
       "      <td>6.029366e+03</td>\n",
       "      <td>1.856336e+05</td>\n",
       "    </tr>\n",
       "    <tr>\n",
       "      <th>std</th>\n",
       "      <td>11.217362</td>\n",
       "      <td>4.296634e+05</td>\n",
       "      <td>5.779277e+06</td>\n",
       "    </tr>\n",
       "    <tr>\n",
       "      <th>min</th>\n",
       "      <td>11201.000000</td>\n",
       "      <td>0.000000e+00</td>\n",
       "      <td>0.000000e+00</td>\n",
       "    </tr>\n",
       "    <tr>\n",
       "      <th>25%</th>\n",
       "      <td>NaN</td>\n",
       "      <td>1.900000e+03</td>\n",
       "      <td>2.239400e+04</td>\n",
       "    </tr>\n",
       "    <tr>\n",
       "      <th>50%</th>\n",
       "      <td>NaN</td>\n",
       "      <td>2.138000e+03</td>\n",
       "      <td>3.068800e+04</td>\n",
       "    </tr>\n",
       "    <tr>\n",
       "      <th>75%</th>\n",
       "      <td>NaN</td>\n",
       "      <td>2.833000e+03</td>\n",
       "      <td>4.951900e+04</td>\n",
       "    </tr>\n",
       "    <tr>\n",
       "      <th>max</th>\n",
       "      <td>11416.000000</td>\n",
       "      <td>2.073912e+08</td>\n",
       "      <td>2.539648e+09</td>\n",
       "    </tr>\n",
       "  </tbody>\n",
       "</table>\n",
       "</div>"
      ],
      "text/plain": [
       "             ZipCode       LotArea     AssessTot\n",
       "count  276923.000000  2.775720e+05  2.775720e+05\n",
       "mean    11220.413241  6.029366e+03  1.856336e+05\n",
       "std        11.217362  4.296634e+05  5.779277e+06\n",
       "min     11201.000000  0.000000e+00  0.000000e+00\n",
       "25%              NaN  1.900000e+03  2.239400e+04\n",
       "50%              NaN  2.138000e+03  3.068800e+04\n",
       "75%              NaN  2.833000e+03  4.951900e+04\n",
       "max     11416.000000  2.073912e+08  2.539648e+09"
      ]
     },
     "execution_count": 4,
     "metadata": {},
     "output_type": "execute_result"
    }
   ],
   "source": [
    "data_4.describe()"
   ]
  },
  {
   "cell_type": "markdown",
   "metadata": {},
   "source": [
    "#### (a). As we see, this data set is not clean.  Drop all the rows which contain \"NaN\" and 0 terms."
   ]
  },
  {
   "cell_type": "code",
   "execution_count": 7,
   "metadata": {
    "collapsed": false
   },
   "outputs": [
    {
     "data": {
      "text/html": [
       "<div>\n",
       "<table border=\"1\" class=\"dataframe\">\n",
       "  <thead>\n",
       "    <tr style=\"text-align: right;\">\n",
       "      <th></th>\n",
       "      <th>ZipCode</th>\n",
       "      <th>LotArea</th>\n",
       "      <th>AssessTot</th>\n",
       "    </tr>\n",
       "  </thead>\n",
       "  <tbody>\n",
       "    <tr>\n",
       "      <th>0</th>\n",
       "      <td>11201.0</td>\n",
       "      <td>151930</td>\n",
       "      <td>1164645</td>\n",
       "    </tr>\n",
       "    <tr>\n",
       "      <th>1</th>\n",
       "      <td>11201.0</td>\n",
       "      <td>9620</td>\n",
       "      <td>5864850</td>\n",
       "    </tr>\n",
       "    <tr>\n",
       "      <th>2</th>\n",
       "      <td>11201.0</td>\n",
       "      <td>19682</td>\n",
       "      <td>12019950</td>\n",
       "    </tr>\n",
       "    <tr>\n",
       "      <th>5</th>\n",
       "      <td>11201.0</td>\n",
       "      <td>6384</td>\n",
       "      <td>21150</td>\n",
       "    </tr>\n",
       "    <tr>\n",
       "      <th>10</th>\n",
       "      <td>11201.0</td>\n",
       "      <td>66889</td>\n",
       "      <td>11700</td>\n",
       "    </tr>\n",
       "    <tr>\n",
       "      <th>12</th>\n",
       "      <td>11201.0</td>\n",
       "      <td>4644</td>\n",
       "      <td>109620</td>\n",
       "    </tr>\n",
       "    <tr>\n",
       "      <th>13</th>\n",
       "      <td>11201.0</td>\n",
       "      <td>517</td>\n",
       "      <td>459</td>\n",
       "    </tr>\n",
       "    <tr>\n",
       "      <th>14</th>\n",
       "      <td>11201.0</td>\n",
       "      <td>4293</td>\n",
       "      <td>4590</td>\n",
       "    </tr>\n",
       "    <tr>\n",
       "      <th>15</th>\n",
       "      <td>11201.0</td>\n",
       "      <td>80873</td>\n",
       "      <td>679140</td>\n",
       "    </tr>\n",
       "    <tr>\n",
       "      <th>16</th>\n",
       "      <td>11201.0</td>\n",
       "      <td>29955</td>\n",
       "      <td>265500</td>\n",
       "    </tr>\n",
       "    <tr>\n",
       "      <th>17</th>\n",
       "      <td>11201.0</td>\n",
       "      <td>59</td>\n",
       "      <td>1620</td>\n",
       "    </tr>\n",
       "    <tr>\n",
       "      <th>18</th>\n",
       "      <td>11201.0</td>\n",
       "      <td>10650</td>\n",
       "      <td>309600</td>\n",
       "    </tr>\n",
       "    <tr>\n",
       "      <th>20</th>\n",
       "      <td>11201.0</td>\n",
       "      <td>102754</td>\n",
       "      <td>907650</td>\n",
       "    </tr>\n",
       "    <tr>\n",
       "      <th>21</th>\n",
       "      <td>11201.0</td>\n",
       "      <td>44000</td>\n",
       "      <td>201600</td>\n",
       "    </tr>\n",
       "    <tr>\n",
       "      <th>22</th>\n",
       "      <td>11201.0</td>\n",
       "      <td>4800</td>\n",
       "      <td>25200</td>\n",
       "    </tr>\n",
       "    <tr>\n",
       "      <th>23</th>\n",
       "      <td>11201.0</td>\n",
       "      <td>41250</td>\n",
       "      <td>6977700</td>\n",
       "    </tr>\n",
       "    <tr>\n",
       "      <th>24</th>\n",
       "      <td>11201.0</td>\n",
       "      <td>41400</td>\n",
       "      <td>26132850</td>\n",
       "    </tr>\n",
       "    <tr>\n",
       "      <th>25</th>\n",
       "      <td>11201.0</td>\n",
       "      <td>18955</td>\n",
       "      <td>1484550</td>\n",
       "    </tr>\n",
       "    <tr>\n",
       "      <th>26</th>\n",
       "      <td>11201.0</td>\n",
       "      <td>9545</td>\n",
       "      <td>2665350</td>\n",
       "    </tr>\n",
       "    <tr>\n",
       "      <th>27</th>\n",
       "      <td>11201.0</td>\n",
       "      <td>21150</td>\n",
       "      <td>1376100</td>\n",
       "    </tr>\n",
       "    <tr>\n",
       "      <th>28</th>\n",
       "      <td>11201.0</td>\n",
       "      <td>12600</td>\n",
       "      <td>2238300</td>\n",
       "    </tr>\n",
       "    <tr>\n",
       "      <th>29</th>\n",
       "      <td>11201.0</td>\n",
       "      <td>22300</td>\n",
       "      <td>1880550</td>\n",
       "    </tr>\n",
       "    <tr>\n",
       "      <th>30</th>\n",
       "      <td>11201.0</td>\n",
       "      <td>8550</td>\n",
       "      <td>2638350</td>\n",
       "    </tr>\n",
       "    <tr>\n",
       "      <th>31</th>\n",
       "      <td>11201.0</td>\n",
       "      <td>10041</td>\n",
       "      <td>255600</td>\n",
       "    </tr>\n",
       "    <tr>\n",
       "      <th>32</th>\n",
       "      <td>11201.0</td>\n",
       "      <td>2100</td>\n",
       "      <td>31500</td>\n",
       "    </tr>\n",
       "    <tr>\n",
       "      <th>33</th>\n",
       "      <td>11201.0</td>\n",
       "      <td>2100</td>\n",
       "      <td>28350</td>\n",
       "    </tr>\n",
       "    <tr>\n",
       "      <th>36</th>\n",
       "      <td>11201.0</td>\n",
       "      <td>15600</td>\n",
       "      <td>3329550</td>\n",
       "    </tr>\n",
       "    <tr>\n",
       "      <th>37</th>\n",
       "      <td>11201.0</td>\n",
       "      <td>104840</td>\n",
       "      <td>1524150</td>\n",
       "    </tr>\n",
       "    <tr>\n",
       "      <th>38</th>\n",
       "      <td>11201.0</td>\n",
       "      <td>93057</td>\n",
       "      <td>2563200</td>\n",
       "    </tr>\n",
       "    <tr>\n",
       "      <th>39</th>\n",
       "      <td>11201.0</td>\n",
       "      <td>283970</td>\n",
       "      <td>1194300</td>\n",
       "    </tr>\n",
       "    <tr>\n",
       "      <th>...</th>\n",
       "      <td>...</td>\n",
       "      <td>...</td>\n",
       "      <td>...</td>\n",
       "    </tr>\n",
       "    <tr>\n",
       "      <th>277542</th>\n",
       "      <td>11229.0</td>\n",
       "      <td>3570</td>\n",
       "      <td>23288</td>\n",
       "    </tr>\n",
       "    <tr>\n",
       "      <th>277543</th>\n",
       "      <td>11229.0</td>\n",
       "      <td>1785</td>\n",
       "      <td>18282</td>\n",
       "    </tr>\n",
       "    <tr>\n",
       "      <th>277544</th>\n",
       "      <td>11229.0</td>\n",
       "      <td>3570</td>\n",
       "      <td>29112</td>\n",
       "    </tr>\n",
       "    <tr>\n",
       "      <th>277545</th>\n",
       "      <td>11229.0</td>\n",
       "      <td>1785</td>\n",
       "      <td>20300</td>\n",
       "    </tr>\n",
       "    <tr>\n",
       "      <th>277546</th>\n",
       "      <td>11229.0</td>\n",
       "      <td>3570</td>\n",
       "      <td>22213</td>\n",
       "    </tr>\n",
       "    <tr>\n",
       "      <th>277547</th>\n",
       "      <td>11229.0</td>\n",
       "      <td>1785</td>\n",
       "      <td>13737</td>\n",
       "    </tr>\n",
       "    <tr>\n",
       "      <th>277548</th>\n",
       "      <td>11229.0</td>\n",
       "      <td>1785</td>\n",
       "      <td>19779</td>\n",
       "    </tr>\n",
       "    <tr>\n",
       "      <th>277549</th>\n",
       "      <td>11229.0</td>\n",
       "      <td>1785</td>\n",
       "      <td>2487</td>\n",
       "    </tr>\n",
       "    <tr>\n",
       "      <th>277550</th>\n",
       "      <td>11229.0</td>\n",
       "      <td>1785</td>\n",
       "      <td>18270</td>\n",
       "    </tr>\n",
       "    <tr>\n",
       "      <th>277551</th>\n",
       "      <td>11229.0</td>\n",
       "      <td>1785</td>\n",
       "      <td>19704</td>\n",
       "    </tr>\n",
       "    <tr>\n",
       "      <th>277552</th>\n",
       "      <td>11229.0</td>\n",
       "      <td>1785</td>\n",
       "      <td>2232</td>\n",
       "    </tr>\n",
       "    <tr>\n",
       "      <th>277553</th>\n",
       "      <td>11229.0</td>\n",
       "      <td>1785</td>\n",
       "      <td>19704</td>\n",
       "    </tr>\n",
       "    <tr>\n",
       "      <th>277554</th>\n",
       "      <td>11229.0</td>\n",
       "      <td>1785</td>\n",
       "      <td>18460</td>\n",
       "    </tr>\n",
       "    <tr>\n",
       "      <th>277555</th>\n",
       "      <td>11229.0</td>\n",
       "      <td>1785</td>\n",
       "      <td>49163</td>\n",
       "    </tr>\n",
       "    <tr>\n",
       "      <th>277556</th>\n",
       "      <td>11229.0</td>\n",
       "      <td>1785</td>\n",
       "      <td>49163</td>\n",
       "    </tr>\n",
       "    <tr>\n",
       "      <th>277557</th>\n",
       "      <td>11229.0</td>\n",
       "      <td>3918</td>\n",
       "      <td>108158</td>\n",
       "    </tr>\n",
       "    <tr>\n",
       "      <th>277558</th>\n",
       "      <td>11229.0</td>\n",
       "      <td>1785</td>\n",
       "      <td>2232</td>\n",
       "    </tr>\n",
       "    <tr>\n",
       "      <th>277559</th>\n",
       "      <td>11229.0</td>\n",
       "      <td>1785</td>\n",
       "      <td>21942</td>\n",
       "    </tr>\n",
       "    <tr>\n",
       "      <th>277560</th>\n",
       "      <td>11229.0</td>\n",
       "      <td>3570</td>\n",
       "      <td>27796</td>\n",
       "    </tr>\n",
       "    <tr>\n",
       "      <th>277561</th>\n",
       "      <td>11229.0</td>\n",
       "      <td>1785</td>\n",
       "      <td>22213</td>\n",
       "    </tr>\n",
       "    <tr>\n",
       "      <th>277562</th>\n",
       "      <td>11229.0</td>\n",
       "      <td>1785</td>\n",
       "      <td>5643</td>\n",
       "    </tr>\n",
       "    <tr>\n",
       "      <th>277563</th>\n",
       "      <td>11229.0</td>\n",
       "      <td>3570</td>\n",
       "      <td>25081</td>\n",
       "    </tr>\n",
       "    <tr>\n",
       "      <th>277564</th>\n",
       "      <td>11229.0</td>\n",
       "      <td>1785</td>\n",
       "      <td>18062</td>\n",
       "    </tr>\n",
       "    <tr>\n",
       "      <th>277565</th>\n",
       "      <td>11229.0</td>\n",
       "      <td>1785</td>\n",
       "      <td>2487</td>\n",
       "    </tr>\n",
       "    <tr>\n",
       "      <th>277566</th>\n",
       "      <td>11229.0</td>\n",
       "      <td>1785</td>\n",
       "      <td>18270</td>\n",
       "    </tr>\n",
       "    <tr>\n",
       "      <th>277567</th>\n",
       "      <td>11229.0</td>\n",
       "      <td>1785</td>\n",
       "      <td>22197</td>\n",
       "    </tr>\n",
       "    <tr>\n",
       "      <th>277568</th>\n",
       "      <td>11229.0</td>\n",
       "      <td>1785</td>\n",
       "      <td>2232</td>\n",
       "    </tr>\n",
       "    <tr>\n",
       "      <th>277569</th>\n",
       "      <td>11229.0</td>\n",
       "      <td>1785</td>\n",
       "      <td>18189</td>\n",
       "    </tr>\n",
       "    <tr>\n",
       "      <th>277570</th>\n",
       "      <td>11229.0</td>\n",
       "      <td>3570</td>\n",
       "      <td>98325</td>\n",
       "    </tr>\n",
       "    <tr>\n",
       "      <th>277571</th>\n",
       "      <td>11229.0</td>\n",
       "      <td>3209</td>\n",
       "      <td>88493</td>\n",
       "    </tr>\n",
       "  </tbody>\n",
       "</table>\n",
       "<p>276362 rows × 3 columns</p>\n",
       "</div>"
      ],
      "text/plain": [
       "        ZipCode  LotArea  AssessTot\n",
       "0       11201.0   151930    1164645\n",
       "1       11201.0     9620    5864850\n",
       "2       11201.0    19682   12019950\n",
       "5       11201.0     6384      21150\n",
       "10      11201.0    66889      11700\n",
       "12      11201.0     4644     109620\n",
       "13      11201.0      517        459\n",
       "14      11201.0     4293       4590\n",
       "15      11201.0    80873     679140\n",
       "16      11201.0    29955     265500\n",
       "17      11201.0       59       1620\n",
       "18      11201.0    10650     309600\n",
       "20      11201.0   102754     907650\n",
       "21      11201.0    44000     201600\n",
       "22      11201.0     4800      25200\n",
       "23      11201.0    41250    6977700\n",
       "24      11201.0    41400   26132850\n",
       "25      11201.0    18955    1484550\n",
       "26      11201.0     9545    2665350\n",
       "27      11201.0    21150    1376100\n",
       "28      11201.0    12600    2238300\n",
       "29      11201.0    22300    1880550\n",
       "30      11201.0     8550    2638350\n",
       "31      11201.0    10041     255600\n",
       "32      11201.0     2100      31500\n",
       "33      11201.0     2100      28350\n",
       "36      11201.0    15600    3329550\n",
       "37      11201.0   104840    1524150\n",
       "38      11201.0    93057    2563200\n",
       "39      11201.0   283970    1194300\n",
       "...         ...      ...        ...\n",
       "277542  11229.0     3570      23288\n",
       "277543  11229.0     1785      18282\n",
       "277544  11229.0     3570      29112\n",
       "277545  11229.0     1785      20300\n",
       "277546  11229.0     3570      22213\n",
       "277547  11229.0     1785      13737\n",
       "277548  11229.0     1785      19779\n",
       "277549  11229.0     1785       2487\n",
       "277550  11229.0     1785      18270\n",
       "277551  11229.0     1785      19704\n",
       "277552  11229.0     1785       2232\n",
       "277553  11229.0     1785      19704\n",
       "277554  11229.0     1785      18460\n",
       "277555  11229.0     1785      49163\n",
       "277556  11229.0     1785      49163\n",
       "277557  11229.0     3918     108158\n",
       "277558  11229.0     1785       2232\n",
       "277559  11229.0     1785      21942\n",
       "277560  11229.0     3570      27796\n",
       "277561  11229.0     1785      22213\n",
       "277562  11229.0     1785       5643\n",
       "277563  11229.0     3570      25081\n",
       "277564  11229.0     1785      18062\n",
       "277565  11229.0     1785       2487\n",
       "277566  11229.0     1785      18270\n",
       "277567  11229.0     1785      22197\n",
       "277568  11229.0     1785       2232\n",
       "277569  11229.0     1785      18189\n",
       "277570  11229.0     3570      98325\n",
       "277571  11229.0     3209      88493\n",
       "\n",
       "[276362 rows x 3 columns]"
      ]
     },
     "execution_count": 7,
     "metadata": {},
     "output_type": "execute_result"
    }
   ],
   "source": [
    "data_4 = data_4.loc[~(data_4==0).any(axis=1)]\n",
    "data_4"
   ]
  },
  {
   "cell_type": "code",
   "execution_count": 8,
   "metadata": {
    "collapsed": false
   },
   "outputs": [
    {
     "data": {
      "text/html": [
       "<div>\n",
       "<table border=\"1\" class=\"dataframe\">\n",
       "  <thead>\n",
       "    <tr style=\"text-align: right;\">\n",
       "      <th></th>\n",
       "      <th>ZipCode</th>\n",
       "      <th>LotArea</th>\n",
       "      <th>AssessTot</th>\n",
       "    </tr>\n",
       "  </thead>\n",
       "  <tbody>\n",
       "    <tr>\n",
       "      <th>0</th>\n",
       "      <td>11201.0</td>\n",
       "      <td>151930</td>\n",
       "      <td>1164645</td>\n",
       "    </tr>\n",
       "    <tr>\n",
       "      <th>1</th>\n",
       "      <td>11201.0</td>\n",
       "      <td>9620</td>\n",
       "      <td>5864850</td>\n",
       "    </tr>\n",
       "    <tr>\n",
       "      <th>2</th>\n",
       "      <td>11201.0</td>\n",
       "      <td>19682</td>\n",
       "      <td>12019950</td>\n",
       "    </tr>\n",
       "    <tr>\n",
       "      <th>5</th>\n",
       "      <td>11201.0</td>\n",
       "      <td>6384</td>\n",
       "      <td>21150</td>\n",
       "    </tr>\n",
       "    <tr>\n",
       "      <th>10</th>\n",
       "      <td>11201.0</td>\n",
       "      <td>66889</td>\n",
       "      <td>11700</td>\n",
       "    </tr>\n",
       "    <tr>\n",
       "      <th>12</th>\n",
       "      <td>11201.0</td>\n",
       "      <td>4644</td>\n",
       "      <td>109620</td>\n",
       "    </tr>\n",
       "    <tr>\n",
       "      <th>13</th>\n",
       "      <td>11201.0</td>\n",
       "      <td>517</td>\n",
       "      <td>459</td>\n",
       "    </tr>\n",
       "    <tr>\n",
       "      <th>14</th>\n",
       "      <td>11201.0</td>\n",
       "      <td>4293</td>\n",
       "      <td>4590</td>\n",
       "    </tr>\n",
       "    <tr>\n",
       "      <th>15</th>\n",
       "      <td>11201.0</td>\n",
       "      <td>80873</td>\n",
       "      <td>679140</td>\n",
       "    </tr>\n",
       "    <tr>\n",
       "      <th>16</th>\n",
       "      <td>11201.0</td>\n",
       "      <td>29955</td>\n",
       "      <td>265500</td>\n",
       "    </tr>\n",
       "    <tr>\n",
       "      <th>17</th>\n",
       "      <td>11201.0</td>\n",
       "      <td>59</td>\n",
       "      <td>1620</td>\n",
       "    </tr>\n",
       "    <tr>\n",
       "      <th>18</th>\n",
       "      <td>11201.0</td>\n",
       "      <td>10650</td>\n",
       "      <td>309600</td>\n",
       "    </tr>\n",
       "    <tr>\n",
       "      <th>20</th>\n",
       "      <td>11201.0</td>\n",
       "      <td>102754</td>\n",
       "      <td>907650</td>\n",
       "    </tr>\n",
       "    <tr>\n",
       "      <th>21</th>\n",
       "      <td>11201.0</td>\n",
       "      <td>44000</td>\n",
       "      <td>201600</td>\n",
       "    </tr>\n",
       "    <tr>\n",
       "      <th>22</th>\n",
       "      <td>11201.0</td>\n",
       "      <td>4800</td>\n",
       "      <td>25200</td>\n",
       "    </tr>\n",
       "    <tr>\n",
       "      <th>23</th>\n",
       "      <td>11201.0</td>\n",
       "      <td>41250</td>\n",
       "      <td>6977700</td>\n",
       "    </tr>\n",
       "    <tr>\n",
       "      <th>24</th>\n",
       "      <td>11201.0</td>\n",
       "      <td>41400</td>\n",
       "      <td>26132850</td>\n",
       "    </tr>\n",
       "    <tr>\n",
       "      <th>25</th>\n",
       "      <td>11201.0</td>\n",
       "      <td>18955</td>\n",
       "      <td>1484550</td>\n",
       "    </tr>\n",
       "    <tr>\n",
       "      <th>26</th>\n",
       "      <td>11201.0</td>\n",
       "      <td>9545</td>\n",
       "      <td>2665350</td>\n",
       "    </tr>\n",
       "    <tr>\n",
       "      <th>27</th>\n",
       "      <td>11201.0</td>\n",
       "      <td>21150</td>\n",
       "      <td>1376100</td>\n",
       "    </tr>\n",
       "    <tr>\n",
       "      <th>28</th>\n",
       "      <td>11201.0</td>\n",
       "      <td>12600</td>\n",
       "      <td>2238300</td>\n",
       "    </tr>\n",
       "    <tr>\n",
       "      <th>29</th>\n",
       "      <td>11201.0</td>\n",
       "      <td>22300</td>\n",
       "      <td>1880550</td>\n",
       "    </tr>\n",
       "    <tr>\n",
       "      <th>30</th>\n",
       "      <td>11201.0</td>\n",
       "      <td>8550</td>\n",
       "      <td>2638350</td>\n",
       "    </tr>\n",
       "    <tr>\n",
       "      <th>31</th>\n",
       "      <td>11201.0</td>\n",
       "      <td>10041</td>\n",
       "      <td>255600</td>\n",
       "    </tr>\n",
       "    <tr>\n",
       "      <th>32</th>\n",
       "      <td>11201.0</td>\n",
       "      <td>2100</td>\n",
       "      <td>31500</td>\n",
       "    </tr>\n",
       "    <tr>\n",
       "      <th>33</th>\n",
       "      <td>11201.0</td>\n",
       "      <td>2100</td>\n",
       "      <td>28350</td>\n",
       "    </tr>\n",
       "    <tr>\n",
       "      <th>36</th>\n",
       "      <td>11201.0</td>\n",
       "      <td>15600</td>\n",
       "      <td>3329550</td>\n",
       "    </tr>\n",
       "    <tr>\n",
       "      <th>37</th>\n",
       "      <td>11201.0</td>\n",
       "      <td>104840</td>\n",
       "      <td>1524150</td>\n",
       "    </tr>\n",
       "    <tr>\n",
       "      <th>38</th>\n",
       "      <td>11201.0</td>\n",
       "      <td>93057</td>\n",
       "      <td>2563200</td>\n",
       "    </tr>\n",
       "    <tr>\n",
       "      <th>39</th>\n",
       "      <td>11201.0</td>\n",
       "      <td>283970</td>\n",
       "      <td>1194300</td>\n",
       "    </tr>\n",
       "    <tr>\n",
       "      <th>...</th>\n",
       "      <td>...</td>\n",
       "      <td>...</td>\n",
       "      <td>...</td>\n",
       "    </tr>\n",
       "    <tr>\n",
       "      <th>277542</th>\n",
       "      <td>11229.0</td>\n",
       "      <td>3570</td>\n",
       "      <td>23288</td>\n",
       "    </tr>\n",
       "    <tr>\n",
       "      <th>277543</th>\n",
       "      <td>11229.0</td>\n",
       "      <td>1785</td>\n",
       "      <td>18282</td>\n",
       "    </tr>\n",
       "    <tr>\n",
       "      <th>277544</th>\n",
       "      <td>11229.0</td>\n",
       "      <td>3570</td>\n",
       "      <td>29112</td>\n",
       "    </tr>\n",
       "    <tr>\n",
       "      <th>277545</th>\n",
       "      <td>11229.0</td>\n",
       "      <td>1785</td>\n",
       "      <td>20300</td>\n",
       "    </tr>\n",
       "    <tr>\n",
       "      <th>277546</th>\n",
       "      <td>11229.0</td>\n",
       "      <td>3570</td>\n",
       "      <td>22213</td>\n",
       "    </tr>\n",
       "    <tr>\n",
       "      <th>277547</th>\n",
       "      <td>11229.0</td>\n",
       "      <td>1785</td>\n",
       "      <td>13737</td>\n",
       "    </tr>\n",
       "    <tr>\n",
       "      <th>277548</th>\n",
       "      <td>11229.0</td>\n",
       "      <td>1785</td>\n",
       "      <td>19779</td>\n",
       "    </tr>\n",
       "    <tr>\n",
       "      <th>277549</th>\n",
       "      <td>11229.0</td>\n",
       "      <td>1785</td>\n",
       "      <td>2487</td>\n",
       "    </tr>\n",
       "    <tr>\n",
       "      <th>277550</th>\n",
       "      <td>11229.0</td>\n",
       "      <td>1785</td>\n",
       "      <td>18270</td>\n",
       "    </tr>\n",
       "    <tr>\n",
       "      <th>277551</th>\n",
       "      <td>11229.0</td>\n",
       "      <td>1785</td>\n",
       "      <td>19704</td>\n",
       "    </tr>\n",
       "    <tr>\n",
       "      <th>277552</th>\n",
       "      <td>11229.0</td>\n",
       "      <td>1785</td>\n",
       "      <td>2232</td>\n",
       "    </tr>\n",
       "    <tr>\n",
       "      <th>277553</th>\n",
       "      <td>11229.0</td>\n",
       "      <td>1785</td>\n",
       "      <td>19704</td>\n",
       "    </tr>\n",
       "    <tr>\n",
       "      <th>277554</th>\n",
       "      <td>11229.0</td>\n",
       "      <td>1785</td>\n",
       "      <td>18460</td>\n",
       "    </tr>\n",
       "    <tr>\n",
       "      <th>277555</th>\n",
       "      <td>11229.0</td>\n",
       "      <td>1785</td>\n",
       "      <td>49163</td>\n",
       "    </tr>\n",
       "    <tr>\n",
       "      <th>277556</th>\n",
       "      <td>11229.0</td>\n",
       "      <td>1785</td>\n",
       "      <td>49163</td>\n",
       "    </tr>\n",
       "    <tr>\n",
       "      <th>277557</th>\n",
       "      <td>11229.0</td>\n",
       "      <td>3918</td>\n",
       "      <td>108158</td>\n",
       "    </tr>\n",
       "    <tr>\n",
       "      <th>277558</th>\n",
       "      <td>11229.0</td>\n",
       "      <td>1785</td>\n",
       "      <td>2232</td>\n",
       "    </tr>\n",
       "    <tr>\n",
       "      <th>277559</th>\n",
       "      <td>11229.0</td>\n",
       "      <td>1785</td>\n",
       "      <td>21942</td>\n",
       "    </tr>\n",
       "    <tr>\n",
       "      <th>277560</th>\n",
       "      <td>11229.0</td>\n",
       "      <td>3570</td>\n",
       "      <td>27796</td>\n",
       "    </tr>\n",
       "    <tr>\n",
       "      <th>277561</th>\n",
       "      <td>11229.0</td>\n",
       "      <td>1785</td>\n",
       "      <td>22213</td>\n",
       "    </tr>\n",
       "    <tr>\n",
       "      <th>277562</th>\n",
       "      <td>11229.0</td>\n",
       "      <td>1785</td>\n",
       "      <td>5643</td>\n",
       "    </tr>\n",
       "    <tr>\n",
       "      <th>277563</th>\n",
       "      <td>11229.0</td>\n",
       "      <td>3570</td>\n",
       "      <td>25081</td>\n",
       "    </tr>\n",
       "    <tr>\n",
       "      <th>277564</th>\n",
       "      <td>11229.0</td>\n",
       "      <td>1785</td>\n",
       "      <td>18062</td>\n",
       "    </tr>\n",
       "    <tr>\n",
       "      <th>277565</th>\n",
       "      <td>11229.0</td>\n",
       "      <td>1785</td>\n",
       "      <td>2487</td>\n",
       "    </tr>\n",
       "    <tr>\n",
       "      <th>277566</th>\n",
       "      <td>11229.0</td>\n",
       "      <td>1785</td>\n",
       "      <td>18270</td>\n",
       "    </tr>\n",
       "    <tr>\n",
       "      <th>277567</th>\n",
       "      <td>11229.0</td>\n",
       "      <td>1785</td>\n",
       "      <td>22197</td>\n",
       "    </tr>\n",
       "    <tr>\n",
       "      <th>277568</th>\n",
       "      <td>11229.0</td>\n",
       "      <td>1785</td>\n",
       "      <td>2232</td>\n",
       "    </tr>\n",
       "    <tr>\n",
       "      <th>277569</th>\n",
       "      <td>11229.0</td>\n",
       "      <td>1785</td>\n",
       "      <td>18189</td>\n",
       "    </tr>\n",
       "    <tr>\n",
       "      <th>277570</th>\n",
       "      <td>11229.0</td>\n",
       "      <td>3570</td>\n",
       "      <td>98325</td>\n",
       "    </tr>\n",
       "    <tr>\n",
       "      <th>277571</th>\n",
       "      <td>11229.0</td>\n",
       "      <td>3209</td>\n",
       "      <td>88493</td>\n",
       "    </tr>\n",
       "  </tbody>\n",
       "</table>\n",
       "<p>275982 rows × 3 columns</p>\n",
       "</div>"
      ],
      "text/plain": [
       "        ZipCode  LotArea  AssessTot\n",
       "0       11201.0   151930    1164645\n",
       "1       11201.0     9620    5864850\n",
       "2       11201.0    19682   12019950\n",
       "5       11201.0     6384      21150\n",
       "10      11201.0    66889      11700\n",
       "12      11201.0     4644     109620\n",
       "13      11201.0      517        459\n",
       "14      11201.0     4293       4590\n",
       "15      11201.0    80873     679140\n",
       "16      11201.0    29955     265500\n",
       "17      11201.0       59       1620\n",
       "18      11201.0    10650     309600\n",
       "20      11201.0   102754     907650\n",
       "21      11201.0    44000     201600\n",
       "22      11201.0     4800      25200\n",
       "23      11201.0    41250    6977700\n",
       "24      11201.0    41400   26132850\n",
       "25      11201.0    18955    1484550\n",
       "26      11201.0     9545    2665350\n",
       "27      11201.0    21150    1376100\n",
       "28      11201.0    12600    2238300\n",
       "29      11201.0    22300    1880550\n",
       "30      11201.0     8550    2638350\n",
       "31      11201.0    10041     255600\n",
       "32      11201.0     2100      31500\n",
       "33      11201.0     2100      28350\n",
       "36      11201.0    15600    3329550\n",
       "37      11201.0   104840    1524150\n",
       "38      11201.0    93057    2563200\n",
       "39      11201.0   283970    1194300\n",
       "...         ...      ...        ...\n",
       "277542  11229.0     3570      23288\n",
       "277543  11229.0     1785      18282\n",
       "277544  11229.0     3570      29112\n",
       "277545  11229.0     1785      20300\n",
       "277546  11229.0     3570      22213\n",
       "277547  11229.0     1785      13737\n",
       "277548  11229.0     1785      19779\n",
       "277549  11229.0     1785       2487\n",
       "277550  11229.0     1785      18270\n",
       "277551  11229.0     1785      19704\n",
       "277552  11229.0     1785       2232\n",
       "277553  11229.0     1785      19704\n",
       "277554  11229.0     1785      18460\n",
       "277555  11229.0     1785      49163\n",
       "277556  11229.0     1785      49163\n",
       "277557  11229.0     3918     108158\n",
       "277558  11229.0     1785       2232\n",
       "277559  11229.0     1785      21942\n",
       "277560  11229.0     3570      27796\n",
       "277561  11229.0     1785      22213\n",
       "277562  11229.0     1785       5643\n",
       "277563  11229.0     3570      25081\n",
       "277564  11229.0     1785      18062\n",
       "277565  11229.0     1785       2487\n",
       "277566  11229.0     1785      18270\n",
       "277567  11229.0     1785      22197\n",
       "277568  11229.0     1785       2232\n",
       "277569  11229.0     1785      18189\n",
       "277570  11229.0     3570      98325\n",
       "277571  11229.0     3209      88493\n",
       "\n",
       "[275982 rows x 3 columns]"
      ]
     },
     "execution_count": 8,
     "metadata": {},
     "output_type": "execute_result"
    }
   ],
   "source": [
    "data_4.dropna()"
   ]
  },
  {
   "cell_type": "markdown",
   "metadata": {},
   "source": [
    "#### (b). Visualize the data set."
   ]
  },
  {
   "cell_type": "code",
   "execution_count": 11,
   "metadata": {
    "collapsed": false
   },
   "outputs": [
    {
     "data": {
      "image/png": "[encoded data removed]",
      "text/plain": [
       "<matplotlib.figure.Figure at 0x116abc690>"
      ]
     },
     "metadata": {},
     "output_type": "display_data"
    }
   ],
   "source": [
    "plt.scatter(data_4.LotArea, y=data_4.AssessTot)\n",
    "plt.show()"
   ]
  },
  {
   "cell_type": "code",
   "execution_count": null,
   "metadata": {
    "collapsed": true
   },
   "outputs": [],
   "source": []
  },
  {
   "cell_type": "markdown",
   "metadata": {},
   "source": [
    "#### (c).  Build a model : AssessTot=$w_1$*LotArea + $w_2$. Get $w_1$, $w_2$ and $R^2$.  Plot your results together with observations. "
   ]
  },
  {
   "cell_type": "code",
   "execution_count": 12,
   "metadata": {
    "collapsed": false
   },
   "outputs": [
    {
     "name": "stdout",
     "output_type": "stream",
     "text": [
      "                            OLS Regression Results                            \n",
      "==============================================================================\n",
      "Dep. Variable:              AssessTot   R-squared:                       0.066\n",
      "Model:                            OLS   Adj. R-squared:                  0.066\n",
      "Method:                 Least Squares   F-statistic:                 1.966e+04\n",
      "Date:                Fri, 14 Oct 2016   Prob (F-statistic):               0.00\n",
      "Time:                        15:03:06   Log-Likelihood:            -4.6861e+06\n",
      "No. Observations:              276362   AIC:                         9.372e+06\n",
      "Df Residuals:                  276360   BIC:                         9.372e+06\n",
      "Df Model:                           1                                         \n",
      "Covariance Type:            nonrobust                                         \n",
      "==============================================================================\n",
      "                 coef    std err          t      P>|t|      [95.0% Conf. Int.]\n",
      "------------------------------------------------------------------------------\n",
      "Intercept   1.657e+05   1.06e+04     15.567      0.000      1.45e+05  1.87e+05\n",
      "LotArea        3.4670      0.025    140.197      0.000         3.419     3.515\n",
      "===============================================================================\n",
      "Omnibus:                  1543767.407   Durbin-Watson:                    1.972\n",
      "Prob(Omnibus):                  0.000   Jarque-Bera (JB):   198416892241651.719\n",
      "Skew:                         322.714   Prob(JB):                          0.00\n",
      "Kurtosis:                  131268.479   Cond. No.                      4.31e+05\n",
      "===============================================================================\n",
      "\n",
      "Warnings:\n",
      "[1] Standard Errors assume that the covariance matrix of the errors is correctly specified.\n",
      "[2] The condition number is large, 4.31e+05. This might indicate that there are\n",
      "strong multicollinearity or other numerical problems.\n"
     ]
    }
   ],
   "source": [
    "lm = smf.ols(formula='AssessTot ~ LotArea', data = data_4).fit()\n",
    "print (lm.summary())"
   ]
  },
  {
   "cell_type": "code",
   "execution_count": 13,
   "metadata": {
    "collapsed": false
   },
   "outputs": [
    {
     "data": {
      "image/png": "[encoded data removed]",
      "text/plain": [
       "<matplotlib.figure.Figure at 0x116adc6d0>"
      ]
     },
     "metadata": {},
     "output_type": "display_data"
    }
   ],
   "source": [
    "plt.scatter(data_4.LotArea, y=data_4.AssessTot)\n",
    "plt.plot(data_4.LotArea,((data_4.LotArea*lm.params[1]) + lm.params[0]),c='r')\n",
    "plt.show()"
   ]
  },
  {
   "cell_type": "markdown",
   "metadata": {},
   "source": [
    "#### (d) Repeat (c) without intercept, i.e. with $w_2=0$."
   ]
  },
  {
   "cell_type": "code",
   "execution_count": 37,
   "metadata": {
    "collapsed": false
   },
   "outputs": [
    {
     "data": {
      "text/plain": [
       "165731.67130338849"
      ]
     },
     "execution_count": 37,
     "metadata": {},
     "output_type": "execute_result"
    }
   ],
   "source": [
    "lm.params[0]"
   ]
  },
  {
   "cell_type": "code",
   "execution_count": 32,
   "metadata": {
    "collapsed": false
   },
   "outputs": [
    {
     "data": {
      "text/plain": [
       "3.4670288647596452"
      ]
     },
     "execution_count": 32,
     "metadata": {},
     "output_type": "execute_result"
    }
   ],
   "source": [
    "lm.params[1]"
   ]
  },
  {
   "cell_type": "code",
   "execution_count": 35,
   "metadata": {
    "collapsed": false
   },
   "outputs": [
    {
     "data": {
      "image/png": "[encoded data removed]",
      "text/plain": [
       "<matplotlib.figure.Figure at 0x119fa1110>"
      ]
     },
     "metadata": {},
     "output_type": "display_data"
    }
   ],
   "source": [
    "plt.scatter(data_4.LotArea, y=data_4.AssessTot)\n",
    "plt.plot(data_4.LotArea,(data_4.LotArea * lm.params[1]),c='r')\n",
    "plt.show()"
   ]
  },
  {
   "cell_type": "markdown",
   "metadata": {
    "collapsed": true
   },
   "source": [
    "### Question (5): (20pt)\n",
    "\n",
    "For the same data as above try the model: log_AssessTot=$w_1$*log_LotArea + $w_2$. Get $w_1$, $w_2$ and $R^2$.  And plot your results together with observations. Explain the result - what does the estimated \"$w_1$\" means to you?"
   ]
  },
  {
   "cell_type": "code",
   "execution_count": 15,
   "metadata": {
    "collapsed": false
   },
   "outputs": [
    {
     "data": {
      "text/html": [
       "<div>\n",
       "<table border=\"1\" class=\"dataframe\">\n",
       "  <thead>\n",
       "    <tr style=\"text-align: right;\">\n",
       "      <th></th>\n",
       "      <th>ZipCode</th>\n",
       "      <th>LotArea</th>\n",
       "      <th>AssessTot</th>\n",
       "      <th>log_LotArea</th>\n",
       "      <th>log_AssessTot</th>\n",
       "    </tr>\n",
       "  </thead>\n",
       "  <tbody>\n",
       "    <tr>\n",
       "      <th>0</th>\n",
       "      <td>11201.0</td>\n",
       "      <td>151930</td>\n",
       "      <td>1164645</td>\n",
       "      <td>11.931175</td>\n",
       "      <td>13.967927</td>\n",
       "    </tr>\n",
       "    <tr>\n",
       "      <th>1</th>\n",
       "      <td>11201.0</td>\n",
       "      <td>9620</td>\n",
       "      <td>5864850</td>\n",
       "      <td>9.171600</td>\n",
       "      <td>15.584487</td>\n",
       "    </tr>\n",
       "    <tr>\n",
       "      <th>2</th>\n",
       "      <td>11201.0</td>\n",
       "      <td>19682</td>\n",
       "      <td>12019950</td>\n",
       "      <td>9.887460</td>\n",
       "      <td>16.302078</td>\n",
       "    </tr>\n",
       "    <tr>\n",
       "      <th>5</th>\n",
       "      <td>11201.0</td>\n",
       "      <td>6384</td>\n",
       "      <td>21150</td>\n",
       "      <td>8.761550</td>\n",
       "      <td>9.959395</td>\n",
       "    </tr>\n",
       "    <tr>\n",
       "      <th>10</th>\n",
       "      <td>11201.0</td>\n",
       "      <td>66889</td>\n",
       "      <td>11700</td>\n",
       "      <td>11.110790</td>\n",
       "      <td>9.367344</td>\n",
       "    </tr>\n",
       "  </tbody>\n",
       "</table>\n",
       "</div>"
      ],
      "text/plain": [
       "    ZipCode  LotArea  AssessTot  log_LotArea  log_AssessTot\n",
       "0   11201.0   151930    1164645    11.931175      13.967927\n",
       "1   11201.0     9620    5864850     9.171600      15.584487\n",
       "2   11201.0    19682   12019950     9.887460      16.302078\n",
       "5   11201.0     6384      21150     8.761550       9.959395\n",
       "10  11201.0    66889      11700    11.110790       9.367344"
      ]
     },
     "execution_count": 15,
     "metadata": {},
     "output_type": "execute_result"
    }
   ],
   "source": [
    "#q7. generate two new columns: log_Population and log_Total_earning in data_5 using np.log() function.\n",
    "data_4.loc[:,\"log_LotArea\"]=np.log(data_4.LotArea)\n",
    "data_4.loc[:,\"log_AssessTot\"]=np.log(data_4.AssessTot)\n",
    "data_4.head()"
   ]
  },
  {
   "cell_type": "code",
   "execution_count": 16,
   "metadata": {
    "collapsed": false
   },
   "outputs": [
    {
     "name": "stdout",
     "output_type": "stream",
     "text": [
      "                            OLS Regression Results                            \n",
      "==============================================================================\n",
      "Dep. Variable:          log_AssessTot   R-squared:                       0.492\n",
      "Model:                            OLS   Adj. R-squared:                  0.492\n",
      "Method:                 Least Squares   F-statistic:                 2.673e+05\n",
      "Date:                Fri, 23 Sep 2016   Prob (F-statistic):               0.00\n",
      "Time:                        18:42:43   Log-Likelihood:            -3.4615e+05\n",
      "No. Observations:              276362   AIC:                         6.923e+05\n",
      "Df Residuals:                  276360   BIC:                         6.923e+05\n",
      "Df Model:                           1                                         \n",
      "Covariance Type:            nonrobust                                         \n",
      "===============================================================================\n",
      "                  coef    std err          t      P>|t|      [95.0% Conf. Int.]\n",
      "-------------------------------------------------------------------------------\n",
      "Intercept       0.2478      0.020     12.360      0.000         0.209     0.287\n",
      "log_LotArea     1.3198      0.003    516.984      0.000         1.315     1.325\n",
      "==============================================================================\n",
      "Omnibus:                    28884.646   Durbin-Watson:                   0.924\n",
      "Prob(Omnibus):                  0.000   Jarque-Bera (JB):           204426.781\n",
      "Skew:                           0.244   Prob(JB):                         0.00\n",
      "Kurtosis:                       7.185   Cond. No.                         99.4\n",
      "==============================================================================\n",
      "\n",
      "Warnings:\n",
      "[1] Standard Errors assume that the covariance matrix of the errors is correctly specified.\n"
     ]
    }
   ],
   "source": [
    "lr = smf.ols(formula='log_AssessTot ~ log_LotArea', data = data_4).fit()\n",
    "print(lr.summary())"
   ]
  },
  {
   "cell_type": "code",
   "execution_count": 17,
   "metadata": {
    "collapsed": false
   },
   "outputs": [
    {
     "data": {
      "image/png": "[encoded data removed]",
      "text/plain": [
       "<matplotlib.figure.Figure at 0x119fd1710>"
      ]
     },
     "metadata": {},
     "output_type": "display_data"
    }
   ],
   "source": [
    "plt.scatter(data_4.log_LotArea,data_4.log_AssessTot)\n",
    "plt.show()"
   ]
  },
  {
   "cell_type": "code",
   "execution_count": 19,
   "metadata": {
    "collapsed": false
   },
   "outputs": [
    {
     "data": {
      "image/png": "[encoded data removed]",
      "text/plain": [
       "<matplotlib.figure.Figure at 0x1173df7d0>"
      ]
     },
     "metadata": {},
     "output_type": "display_data"
    }
   ],
   "source": [
    "plt.scatter(data_4.log_LotArea,data_4.log_AssessTot)\n",
    "plt.plot(data_4.log_LotArea,lr.predict(),'r-')\n",
    "plt.show()"
   ]
  },
  {
   "cell_type": "code",
   "execution_count": null,
   "metadata": {
    "collapsed": true
   },
   "outputs": [],
   "source": []
  },
  {
   "cell_type": "markdown",
   "metadata": {},
   "source": [
    "### *Additional extra-credit question (Using the housing price data set from question (4)) (40 pt to be added to the cumulative homework score up to the maximum of 100%(for whole semester))"
   ]
  },
  {
   "cell_type": "markdown",
   "metadata": {},
   "source": [
    "#### (a) How many different zip codes are in the data? report the number of observations for each zipcode.\n",
    "\n",
    "#### (b) For each zip code having over 1000 observations, report the average assessed total value of houses.\n",
    "\n",
    "#### (c) For each zip code estimate the log scale model 'log_AssessTot ~ log_LotArea' and report the slope coefficient (scaling exponent).\n",
    "\n",
    "#### (d) Visualize the spatial distribution of the values from (b) and (c). Report the top 5 zip code with highest scaling exponents."
   ]
  },
  {
   "cell_type": "code",
   "execution_count": 71,
   "metadata": {
    "collapsed": false
   },
   "outputs": [
    {
     "data": {
      "text/plain": [
       "11234.0    19318\n",
       "11236.0    14612\n",
       "11229.0    12063\n",
       "11207.0    11413\n",
       "11208.0    11284\n",
       "11203.0    11011\n",
       "11223.0    10322\n",
       "11204.0     9946\n",
       "11214.0     9513\n",
       "11221.0     9186\n",
       "11215.0     9056\n",
       "11220.0     9015\n",
       "11219.0     8656\n",
       "11210.0     8540\n",
       "11209.0     8451\n",
       "11233.0     8014\n",
       "11230.0     7987\n",
       "11235.0     7941\n",
       "11228.0     7857\n",
       "11218.0     6905\n",
       "11212.0     6578\n",
       "11216.0     6113\n",
       "11211.0     5462\n",
       "11226.0     5336\n",
       "11222.0     5311\n",
       "11213.0     5076\n",
       "11238.0     4876\n",
       "11231.0     4838\n",
       "11206.0     4665\n",
       "11237.0     4390\n",
       "11217.0     4035\n",
       "11225.0     3920\n",
       "11201.0     3361\n",
       "11205.0     3196\n",
       "11232.0     2946\n",
       "11224.0     2798\n",
       "11249.0     1561\n",
       "11239.0      424\n",
       "11416.0        4\n",
       "11251.0        1\n",
       "11241.0        1\n",
       "Name: ZipCode, dtype: int64"
      ]
     },
     "execution_count": 71,
     "metadata": {},
     "output_type": "execute_result"
    }
   ],
   "source": [
    "data_4.ZipCode.value_counts()  #No. of Observations in each zipcode. "
   ]
  },
  {
   "cell_type": "code",
   "execution_count": 41,
   "metadata": {
    "collapsed": false
   },
   "outputs": [
    {
     "data": {
      "text/plain": [
       "41"
      ]
     },
     "execution_count": 41,
     "metadata": {},
     "output_type": "execute_result"
    }
   ],
   "source": [
    "data_4.ZipCode.nunique()  #total number of zipcodes"
   ]
  },
  {
   "cell_type": "code",
   "execution_count": 90,
   "metadata": {
    "collapsed": false
   },
   "outputs": [
    {
     "data": {
      "text/plain": [
       "ZipCode\n",
       "11201.0    1.672253e+06\n",
       "11203.0    1.210203e+05\n",
       "11204.0    1.045425e+05\n",
       "11205.0    3.509409e+05\n",
       "11206.0    3.115333e+05\n",
       "11207.0    1.003423e+05\n",
       "11208.0    8.644045e+04\n",
       "11209.0    1.731870e+05\n",
       "11210.0    1.194678e+05\n",
       "11211.0    2.493017e+05\n",
       "Name: AssessTot, dtype: float64"
      ]
     },
     "execution_count": 90,
     "metadata": {},
     "output_type": "execute_result"
    }
   ],
   "source": [
    "data_gr = data_4.groupby('ZipCode').AssessTot.mean()   # Average by zipcode.\n",
    "data_gr.head(10)"
   ]
  },
  {
   "cell_type": "code",
   "execution_count": 72,
   "metadata": {
    "collapsed": false
   },
   "outputs": [
    {
     "data": {
      "text/plain": [
       "array([[<matplotlib.axes._subplots.AxesSubplot object at 0x117510290>,\n",
       "        <matplotlib.axes._subplots.AxesSubplot object at 0x11823f5d0>]], dtype=object)"
      ]
     },
     "execution_count": 72,
     "metadata": {},
     "output_type": "execute_result"
    },
    {
     "data": {
      "image/png": "[encoded data removed]",
      "text/plain": [
       "<matplotlib.figure.Figure at 0x128567810>"
      ]
     },
     "metadata": {},
     "output_type": "display_data"
    }
   ],
   "source": [
    "data_gr.hist()"
   ]
  },
  {
   "cell_type": "code",
   "execution_count": 88,
   "metadata": {
    "collapsed": true
   },
   "outputs": [],
   "source": [
    "data_zip = data_4.groupby('ZipCode').LotArea.mean()"
   ]
  },
  {
   "cell_type": "code",
   "execution_count": 89,
   "metadata": {
    "collapsed": false
   },
   "outputs": [
    {
     "data": {
      "text/plain": [
       "ZipCode\n",
       "11201.0    7849.991669\n",
       "11203.0    3588.370993\n",
       "11204.0    3004.730243\n",
       "11205.0    5601.588861\n",
       "11206.0    5822.614791\n",
       "Name: LotArea, dtype: float64"
      ]
     },
     "execution_count": 89,
     "metadata": {},
     "output_type": "execute_result"
    }
   ],
   "source": [
    "data_zip.head()"
   ]
  },
  {
   "cell_type": "code",
   "execution_count": 91,
   "metadata": {
    "collapsed": true
   },
   "outputs": [],
   "source": [
    "result = pd.concat([data_gr,data_zip], axis=1)"
   ]
  },
  {
   "cell_type": "code",
   "execution_count": 92,
   "metadata": {
    "collapsed": false
   },
   "outputs": [
    {
     "data": {
      "text/html": [
       "<div>\n",
       "<table border=\"1\" class=\"dataframe\">\n",
       "  <thead>\n",
       "    <tr style=\"text-align: right;\">\n",
       "      <th></th>\n",
       "      <th>AssessTot</th>\n",
       "      <th>LotArea</th>\n",
       "    </tr>\n",
       "    <tr>\n",
       "      <th>ZipCode</th>\n",
       "      <th></th>\n",
       "      <th></th>\n",
       "    </tr>\n",
       "  </thead>\n",
       "  <tbody>\n",
       "    <tr>\n",
       "      <th>11201.0</th>\n",
       "      <td>1.672253e+06</td>\n",
       "      <td>7849.991669</td>\n",
       "    </tr>\n",
       "    <tr>\n",
       "      <th>11203.0</th>\n",
       "      <td>1.210203e+05</td>\n",
       "      <td>3588.370993</td>\n",
       "    </tr>\n",
       "    <tr>\n",
       "      <th>11204.0</th>\n",
       "      <td>1.045425e+05</td>\n",
       "      <td>3004.730243</td>\n",
       "    </tr>\n",
       "    <tr>\n",
       "      <th>11205.0</th>\n",
       "      <td>3.509409e+05</td>\n",
       "      <td>5601.588861</td>\n",
       "    </tr>\n",
       "    <tr>\n",
       "      <th>11206.0</th>\n",
       "      <td>3.115333e+05</td>\n",
       "      <td>5822.614791</td>\n",
       "    </tr>\n",
       "  </tbody>\n",
       "</table>\n",
       "</div>"
      ],
      "text/plain": [
       "            AssessTot      LotArea\n",
       "ZipCode                           \n",
       "11201.0  1.672253e+06  7849.991669\n",
       "11203.0  1.210203e+05  3588.370993\n",
       "11204.0  1.045425e+05  3004.730243\n",
       "11205.0  3.509409e+05  5601.588861\n",
       "11206.0  3.115333e+05  5822.614791"
      ]
     },
     "execution_count": 92,
     "metadata": {},
     "output_type": "execute_result"
    }
   ],
   "source": [
    "result.head()"
   ]
  },
  {
   "cell_type": "code",
   "execution_count": 93,
   "metadata": {
    "collapsed": false
   },
   "outputs": [
    {
     "data": {
      "text/html": [
       "<div>\n",
       "<table border=\"1\" class=\"dataframe\">\n",
       "  <thead>\n",
       "    <tr style=\"text-align: right;\">\n",
       "      <th></th>\n",
       "      <th>AssessTot</th>\n",
       "      <th>LotArea</th>\n",
       "      <th>Log_AssessTot</th>\n",
       "      <th>Log_LotArea</th>\n",
       "    </tr>\n",
       "    <tr>\n",
       "      <th>ZipCode</th>\n",
       "      <th></th>\n",
       "      <th></th>\n",
       "      <th></th>\n",
       "      <th></th>\n",
       "    </tr>\n",
       "  </thead>\n",
       "  <tbody>\n",
       "    <tr>\n",
       "      <th>11201.0</th>\n",
       "      <td>1.672253e+06</td>\n",
       "      <td>7849.991669</td>\n",
       "      <td>14.329682</td>\n",
       "      <td>8.968268</td>\n",
       "    </tr>\n",
       "    <tr>\n",
       "      <th>11203.0</th>\n",
       "      <td>1.210203e+05</td>\n",
       "      <td>3588.370993</td>\n",
       "      <td>11.703713</td>\n",
       "      <td>8.185454</td>\n",
       "    </tr>\n",
       "    <tr>\n",
       "      <th>11204.0</th>\n",
       "      <td>1.045425e+05</td>\n",
       "      <td>3004.730243</td>\n",
       "      <td>11.557349</td>\n",
       "      <td>8.007943</td>\n",
       "    </tr>\n",
       "    <tr>\n",
       "      <th>11205.0</th>\n",
       "      <td>3.509409e+05</td>\n",
       "      <td>5601.588861</td>\n",
       "      <td>12.768373</td>\n",
       "      <td>8.630806</td>\n",
       "    </tr>\n",
       "    <tr>\n",
       "      <th>11206.0</th>\n",
       "      <td>3.115333e+05</td>\n",
       "      <td>5822.614791</td>\n",
       "      <td>12.649261</td>\n",
       "      <td>8.669505</td>\n",
       "    </tr>\n",
       "  </tbody>\n",
       "</table>\n",
       "</div>"
      ],
      "text/plain": [
       "            AssessTot      LotArea  Log_AssessTot  Log_LotArea\n",
       "ZipCode                                                       \n",
       "11201.0  1.672253e+06  7849.991669      14.329682     8.968268\n",
       "11203.0  1.210203e+05  3588.370993      11.703713     8.185454\n",
       "11204.0  1.045425e+05  3004.730243      11.557349     8.007943\n",
       "11205.0  3.509409e+05  5601.588861      12.768373     8.630806\n",
       "11206.0  3.115333e+05  5822.614791      12.649261     8.669505"
      ]
     },
     "execution_count": 93,
     "metadata": {},
     "output_type": "execute_result"
    }
   ],
   "source": [
    "result.loc[:,\"Log_AssessTot\"] = np.log(result.AssessTot)\n",
    "result.loc[:,\"Log_LotArea\"] = np.log(result.LotArea)\n",
    "result.head()"
   ]
  },
  {
   "cell_type": "code",
   "execution_count": 95,
   "metadata": {
    "collapsed": false
   },
   "outputs": [
    {
     "name": "stdout",
     "output_type": "stream",
     "text": [
      "                            OLS Regression Results                            \n",
      "==============================================================================\n",
      "Dep. Variable:          Log_AssessTot   R-squared:                       0.666\n",
      "Model:                            OLS   Adj. R-squared:                  0.657\n",
      "Method:                 Least Squares   F-statistic:                     77.78\n",
      "Date:                Fri, 23 Sep 2016   Prob (F-statistic):           7.92e-11\n",
      "Time:                        22:14:22   Log-Likelihood:                -50.511\n",
      "No. Observations:                  41   AIC:                             105.0\n",
      "Df Residuals:                      39   BIC:                             108.4\n",
      "Df Model:                           1                                         \n",
      "Covariance Type:            nonrobust                                         \n",
      "===============================================================================\n",
      "                  coef    std err          t      P>|t|      [95.0% Conf. Int.]\n",
      "-------------------------------------------------------------------------------\n",
      "Intercept       4.0735      0.952      4.277      0.000         2.147     6.000\n",
      "Log_LotArea     0.9542      0.108      8.819      0.000         0.735     1.173\n",
      "==============================================================================\n",
      "Omnibus:                       48.270   Durbin-Watson:                   1.526\n",
      "Prob(Omnibus):                  0.000   Jarque-Bera (JB):              252.536\n",
      "Skew:                           2.747   Prob(JB):                     1.45e-55\n",
      "Kurtosis:                      13.847   Cond. No.                         63.9\n",
      "==============================================================================\n",
      "\n",
      "Warnings:\n",
      "[1] Standard Errors assume that the covariance matrix of the errors is correctly specified.\n"
     ]
    }
   ],
   "source": [
    "lm = smf.ols(formula='Log_AssessTot ~ Log_LotArea', data = result).fit()\n",
    "print lm.summary()"
   ]
  },
  {
   "cell_type": "code",
   "execution_count": null,
   "metadata": {
    "collapsed": true
   },
   "outputs": [],
   "source": []
  }
 ],
 "metadata": {
  "anaconda-cloud": {},
  "kernelspec": {
   "display_name": "Python [Root]",
   "language": "python",
   "name": "Python [Root]"
  },
  "language_info": {
   "codemirror_mode": {
    "name": "ipython",
    "version": 2
   },
   "file_extension": ".py",
   "mimetype": "text/x-python",
   "name": "python",
   "nbconvert_exporter": "python",
   "pygments_lexer": "ipython2",
   "version": "2.7.12"
  }
 },
 "nbformat": 4,
 "nbformat_minor": 0
}
